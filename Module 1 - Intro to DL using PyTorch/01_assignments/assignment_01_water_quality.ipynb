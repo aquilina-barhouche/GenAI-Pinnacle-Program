{
 "cells": [
  {
   "cell_type": "markdown",
   "metadata": {},
   "source": [
    "# Assignment 1 - Water Quality"
   ]
  },
  {
   "cell_type": "markdown",
   "metadata": {},
   "source": [
    "## Given\n",
    "\n",
    "In this project, we provide a water quality dataset from the Central Pollution Control Board\n",
    "(CPCB). You will use this dataset to predict water quality.\n",
    "\n",
    "Access to clean water is a fundamental necessity, yet water quality can vary significantly based\n",
    "on environmental, geographical, and human factors. The dataset includes water quality\n",
    "monitoring data from across India, with chemical and physical parameters measured at various\n",
    "locations over different years (2019, 2020, 2021, 2022).\n",
    "\n",
    "The dataset contains the following columns:\n",
    "pi\n",
    "Well_ID, State, District, Block, Village: Geographical identifiers of water sampling locations.\n",
    "\n",
    "Latitude, Longitude: Spatial coordinates for precise mapping.\n",
    "\n",
    "Year: The year in which the sample was recorded.\n",
    "\n",
    "Water Quality Indicators: pH, Electrical Conductivity (EC), Carbonates (CO3), Bicarbonates\n",
    "(HCO3), Chlorides (CI), Sulfates (SO4), Nitrates (NO3), Total Hardness (TH), Calcium (Ca),\n",
    "Magnesium (Mg), Sodium (Na), Potassium (K), Fluoride (F), Total Dissolved Solids (TDS).\n",
    "\n",
    "Target Variables:\n",
    "\n",
    "Water Quality Index (WQI): A numerical representation of overall water quality derived from\n",
    "chemical and physical parameters.\n",
    "\n",
    "Water Quality Classification: A categorical label indicating the quality of water (e.g., Good, Poor,\n",
    "Unsuitable for Drinking).\n",
    "\n",
    "## Deliverables\n",
    "\n",
    "In this project, your task is to build Deep Learning Neural Networks to predict the following:\n",
    "\n",
    "Water Quality Index (WQI)\n",
    "\n",
    "Water Quality Classification\n",
    "\n",
    "You can download the dataset from the attachment provided and build the models using that.\n",
    "Once the models are built, calculate metrics such as the R2 score for regression and accuracy/F1\n",
    "score for classification, and submit your ipynb file for evaluation."
   ]
  },
  {
   "cell_type": "markdown",
   "metadata": {},
   "source": [
    "As a preliminary analysis upon checking the given, we notice that the columns mentioned display a certain redundancy:\n",
    "- Geographical identifiers of water sampling locations and Spatial coordinates for precise mapping present us with the same insights so I will stick with the Latitude and Longitude as geographical indicators\n",
    "- The year seems to be irrelevant due to the lack of interpretability \n",
    "- The water quality indicators are the most relevant factors to consider"
   ]
  },
  {
   "cell_type": "markdown",
   "metadata": {},
   "source": [
    "## TODO\n",
    "\n",
    "- [ ] Transform Targets (Use Log `y_wqi_train_log = np.log1p(y_wqi_train)` and `y_wqi_pred = np.expm1(y_wqi_pred_log)`)\n",
    "- [ ] Visualize the distribution of the features before and after transformation.\n",
    "- [ ] A bit more complex model?"
   ]
  },
  {
   "cell_type": "markdown",
   "metadata": {},
   "source": [
    "## Imports"
   ]
  },
  {
   "cell_type": "code",
   "execution_count": 1,
   "metadata": {},
   "outputs": [],
   "source": [
    "import pandas as pd\n",
    "import seaborn as sns\n",
    "import matplotlib.pyplot as plt\n",
    "from sklearn.preprocessing import StandardScaler\n",
    "from sklearn.model_selection import train_test_split\n",
    "from sklearn.metrics import r2_score\n",
    "from sklearn.metrics import accuracy_score, f1_score\n",
    "import numpy as np\n",
    "\n",
    "\n",
    "import torch\n",
    "import torch.nn as nn\n",
    "import torch.nn.functional as F\n",
    "from torch.utils.data import TensorDataset, DataLoader\n",
    "import torch.optim as optim"
   ]
  },
  {
   "cell_type": "markdown",
   "metadata": {},
   "source": [
    "## EDA"
   ]
  },
  {
   "cell_type": "code",
   "execution_count": 2,
   "metadata": {},
   "outputs": [
    {
     "data": {
      "text/html": [
       "<div>\n",
       "<style scoped>\n",
       "    .dataframe tbody tr th:only-of-type {\n",
       "        vertical-align: middle;\n",
       "    }\n",
       "\n",
       "    .dataframe tbody tr th {\n",
       "        vertical-align: top;\n",
       "    }\n",
       "\n",
       "    .dataframe thead th {\n",
       "        text-align: right;\n",
       "    }\n",
       "</style>\n",
       "<table border=\"1\" class=\"dataframe\">\n",
       "  <thead>\n",
       "    <tr style=\"text-align: right;\">\n",
       "      <th></th>\n",
       "      <th>Well_ID</th>\n",
       "      <th>State</th>\n",
       "      <th>District</th>\n",
       "      <th>Block</th>\n",
       "      <th>Village</th>\n",
       "      <th>Latitude</th>\n",
       "      <th>Longitude</th>\n",
       "      <th>Year</th>\n",
       "      <th>pH</th>\n",
       "      <th>EC</th>\n",
       "      <th>...</th>\n",
       "      <th>NO3</th>\n",
       "      <th>TH</th>\n",
       "      <th>Ca</th>\n",
       "      <th>Mg</th>\n",
       "      <th>Na</th>\n",
       "      <th>K</th>\n",
       "      <th>F</th>\n",
       "      <th>TDS</th>\n",
       "      <th>WQI</th>\n",
       "      <th>Water Quality Classification</th>\n",
       "    </tr>\n",
       "  </thead>\n",
       "  <tbody>\n",
       "    <tr>\n",
       "      <th>0</th>\n",
       "      <td>W232200071580001</td>\n",
       "      <td>Gujarat</td>\n",
       "      <td>Ahmedabad</td>\n",
       "      <td>Mandal</td>\n",
       "      <td>Dalod</td>\n",
       "      <td>NaN</td>\n",
       "      <td>NaN</td>\n",
       "      <td>2020</td>\n",
       "      <td>8.20</td>\n",
       "      <td>16640.0</td>\n",
       "      <td>...</td>\n",
       "      <td>26.00</td>\n",
       "      <td>1451.0</td>\n",
       "      <td>152.0</td>\n",
       "      <td>260.0</td>\n",
       "      <td>3535.0</td>\n",
       "      <td>45.0</td>\n",
       "      <td>1.00</td>\n",
       "      <td>11149</td>\n",
       "      <td>4361.44080</td>\n",
       "      <td>Unsuitable for Drinking</td>\n",
       "    </tr>\n",
       "    <tr>\n",
       "      <th>1</th>\n",
       "      <td>W254029084355301</td>\n",
       "      <td>Himachal Pradesh</td>\n",
       "      <td>Solan</td>\n",
       "      <td>Nallagarh</td>\n",
       "      <td>JAGATPUR</td>\n",
       "      <td>31.1594</td>\n",
       "      <td>76.678500</td>\n",
       "      <td>2019</td>\n",
       "      <td>8.44</td>\n",
       "      <td>299.0</td>\n",
       "      <td>...</td>\n",
       "      <td>2.70</td>\n",
       "      <td>84.0</td>\n",
       "      <td>17.0</td>\n",
       "      <td>10.0</td>\n",
       "      <td>39.0</td>\n",
       "      <td>2.4</td>\n",
       "      <td>0.20</td>\n",
       "      <td>262</td>\n",
       "      <td>85.80466</td>\n",
       "      <td>Good</td>\n",
       "    </tr>\n",
       "    <tr>\n",
       "      <th>2</th>\n",
       "      <td>W193530074180001</td>\n",
       "      <td>Maharashtra</td>\n",
       "      <td>Ahmednagar</td>\n",
       "      <td>SANGAMNER</td>\n",
       "      <td>Kokangaon</td>\n",
       "      <td>74.3000</td>\n",
       "      <td>19.591667</td>\n",
       "      <td>2022</td>\n",
       "      <td>7.90</td>\n",
       "      <td>1315.0</td>\n",
       "      <td>...</td>\n",
       "      <td>18.20</td>\n",
       "      <td>465.0</td>\n",
       "      <td>80.2</td>\n",
       "      <td>64.4</td>\n",
       "      <td>88.3</td>\n",
       "      <td>1.6</td>\n",
       "      <td>0.53</td>\n",
       "      <td>372</td>\n",
       "      <td>280.04130</td>\n",
       "      <td>Very Poor yet Drinkable</td>\n",
       "    </tr>\n",
       "    <tr>\n",
       "      <th>3</th>\n",
       "      <td>W231620072033001</td>\n",
       "      <td>Gujarat</td>\n",
       "      <td>Ahmedabad</td>\n",
       "      <td>Viramgam</td>\n",
       "      <td>Endla</td>\n",
       "      <td>NaN</td>\n",
       "      <td>NaN</td>\n",
       "      <td>2020</td>\n",
       "      <td>7.40</td>\n",
       "      <td>715.0</td>\n",
       "      <td>...</td>\n",
       "      <td>0.23</td>\n",
       "      <td>280.0</td>\n",
       "      <td>56.0</td>\n",
       "      <td>34.0</td>\n",
       "      <td>47.0</td>\n",
       "      <td>11.0</td>\n",
       "      <td>0.46</td>\n",
       "      <td>479</td>\n",
       "      <td>195.11649</td>\n",
       "      <td>Poor</td>\n",
       "    </tr>\n",
       "    <tr>\n",
       "      <th>4</th>\n",
       "      <td>W251908084361501</td>\n",
       "      <td>Himachal Pradesh</td>\n",
       "      <td>Solan</td>\n",
       "      <td>Nallagarh</td>\n",
       "      <td>BARUNA</td>\n",
       "      <td>31.1540</td>\n",
       "      <td>76.638400</td>\n",
       "      <td>2019</td>\n",
       "      <td>8.40</td>\n",
       "      <td>270.0</td>\n",
       "      <td>...</td>\n",
       "      <td>10.00</td>\n",
       "      <td>116.0</td>\n",
       "      <td>10.0</td>\n",
       "      <td>18.0</td>\n",
       "      <td>23.0</td>\n",
       "      <td>1.0</td>\n",
       "      <td>0.12</td>\n",
       "      <td>262</td>\n",
       "      <td>81.77860</td>\n",
       "      <td>Good</td>\n",
       "    </tr>\n",
       "  </tbody>\n",
       "</table>\n",
       "<p>5 rows × 24 columns</p>\n",
       "</div>"
      ],
      "text/plain": [
       "            Well_ID             State    District      Block    Village  \\\n",
       "0  W232200071580001           Gujarat   Ahmedabad     Mandal      Dalod   \n",
       "1  W254029084355301  Himachal Pradesh       Solan  Nallagarh   JAGATPUR   \n",
       "2  W193530074180001       Maharashtra  Ahmednagar  SANGAMNER  Kokangaon   \n",
       "3  W231620072033001           Gujarat   Ahmedabad   Viramgam      Endla   \n",
       "4  W251908084361501  Himachal Pradesh       Solan  Nallagarh     BARUNA   \n",
       "\n",
       "   Latitude  Longitude  Year    pH       EC  ...    NO3      TH     Ca     Mg  \\\n",
       "0       NaN        NaN  2020  8.20  16640.0  ...  26.00  1451.0  152.0  260.0   \n",
       "1   31.1594  76.678500  2019  8.44    299.0  ...   2.70    84.0   17.0   10.0   \n",
       "2   74.3000  19.591667  2022  7.90   1315.0  ...  18.20   465.0   80.2   64.4   \n",
       "3       NaN        NaN  2020  7.40    715.0  ...   0.23   280.0   56.0   34.0   \n",
       "4   31.1540  76.638400  2019  8.40    270.0  ...  10.00   116.0   10.0   18.0   \n",
       "\n",
       "       Na     K     F    TDS         WQI  Water Quality Classification  \n",
       "0  3535.0  45.0  1.00  11149  4361.44080       Unsuitable for Drinking  \n",
       "1    39.0   2.4  0.20    262    85.80466                          Good  \n",
       "2    88.3   1.6  0.53    372   280.04130       Very Poor yet Drinkable  \n",
       "3    47.0  11.0  0.46    479   195.11649                          Poor  \n",
       "4    23.0   1.0  0.12    262    81.77860                          Good  \n",
       "\n",
       "[5 rows x 24 columns]"
      ]
     },
     "execution_count": 2,
     "metadata": {},
     "output_type": "execute_result"
    }
   ],
   "source": [
    "# Loading data\n",
    "df = pd.read_csv('../xx_data/water_quality.csv')\n",
    "\n",
    "df.head()"
   ]
  },
  {
   "cell_type": "code",
   "execution_count": 3,
   "metadata": {},
   "outputs": [
    {
     "name": "stdout",
     "output_type": "stream",
     "text": [
      "The dataset contains the following columns:\n",
      "Well_ID, State, District, Block, Village, Latitude, Longitude, Year, pH, EC, CO3, HCO3, Cl, SO4, NO3, TH, Ca, Mg, Na, K, F, TDS, WQI, Water Quality Classification\n"
     ]
    }
   ],
   "source": [
    "print(f\"The dataset contains the following columns:\\n{\", \".join(df.columns.to_list())}\")"
   ]
  },
  {
   "cell_type": "markdown",
   "metadata": {},
   "source": [
    "### 📌 Dropping Location and Metadata Columns\n",
    "\n",
    "We drop the columns `Well_ID`, `State`, `District`, `Block`, `Village`, `Latitude`, `Longitude`, and `Year` because they do not contribute directly to assessing water quality. These fields serve as identifiers or contextual metadata, while the dataset already includes precise chemical measurements (e.g., pH, TDS, NO₃) that directly determine water quality. By removing non-essential columns, we streamline the dataset and focus the analysis on the actual water quality indicators."
   ]
  },
  {
   "cell_type": "markdown",
   "metadata": {},
   "source": [
    "### 🎯 Target Variable Selection"
   ]
  },
  {
   "cell_type": "markdown",
   "metadata": {},
   "source": [
    "We use **Water Quality Index (WQI)** as the target variable for modeling and prediction, rather than the `Water Quality Classification`. The classification is a **direct categorical interpretation** of the WQI value, as shown in the reference table:\n",
    "\n",
    "![WQI vs WQC table](https://pubs.sciepub.com/ajwr/1/3/3/image/tab2.png)\n",
    "\n",
    "Since the classification is **derived directly from WQI**, including both as targets would be redundant. By predicting WQI, we can **infer the classification** using predefined thresholds, keeping the model focused and avoiding leakage from derived labels."
   ]
  },
  {
   "cell_type": "markdown",
   "metadata": {},
   "source": [
    "### 📊 Investigating the WQI–Classification Relationship"
   ]
  },
  {
   "cell_type": "markdown",
   "metadata": {},
   "source": [
    "We created a boxplot to investigate whether the `Water Quality Classification` aligns correctly with the `Water Quality Index (WQI)` values. Since the classification is derived from WQI ranges, this visualization helps validate the hypothesis that the classification labels are consistent with the underlying index. By plotting WQI against each classification category, we can visually confirm whether the WQI values fall within the expected thresholds defined in the reference table. This step ensures the integrity of the labels and supports using WQI as the sole target variable for modeling."
   ]
  },
  {
   "cell_type": "code",
   "execution_count": 4,
   "metadata": {},
   "outputs": [
    {
     "data": {
      "image/png": "[encoded data removed]",
      "text/plain": [
       "<Figure size 1000x600 with 1 Axes>"
      ]
     },
     "metadata": {},
     "output_type": "display_data"
    }
   ],
   "source": [
    "# Create scatter plot\n",
    "plt.figure(figsize=(10, 6))\n",
    "\n",
    "# Define desired order for classification\n",
    "classification_order = ['Unsuitable for Drinking', 'Very Poor yet Drinkable', 'Poor', 'Good', 'Excellent']\n",
    "\n",
    "df['Water Quality Classification'] = pd.Categorical(\n",
    "    df['Water Quality Classification'],\n",
    "    categories=classification_order,\n",
    "    ordered=True\n",
    ")\n",
    "\n",
    "sns.boxplot(\n",
    "    x='Water Quality Classification',\n",
    "    y=\"WQI\", \n",
    "    data=df,\n",
    "    hue='Water Quality Classification'\n",
    ")\n",
    "\n",
    "# Customize plot\n",
    "plt.title('Water Quality Classification vs Index')\n",
    "plt.xlabel('Water Quality Classification')\n",
    "plt.ylabel('WQI')\n",
    "plt.ylim([0, 1000])\n",
    "plt.xticks(rotation=45)\n",
    "plt.tight_layout()"
   ]
  },
  {
   "cell_type": "markdown",
   "metadata": {},
   "source": [
    "The plot clearly demonstrates that the **Water Quality Index (WQI)** serves as a direct and reliable indicator for water quality classification. Each classification corresponds to a specific WQI range, meaning the label assigned to a data point is determined solely by the interval in which its WQI value falls. Given this strong correlation, we include **WQI as a predictor** in our modeling pipeline, allowing us to infer the classification programmatically and ensure consistency across the dataset."
   ]
  },
  {
   "cell_type": "code",
   "execution_count": 5,
   "metadata": {},
   "outputs": [
    {
     "name": "stdout",
     "output_type": "stream",
     "text": [
      "Minimum and Maximum WQI values for each Water Quality Classification:\n"
     ]
    },
    {
     "data": {
      "text/html": [
       "<div>\n",
       "<style scoped>\n",
       "    .dataframe tbody tr th:only-of-type {\n",
       "        vertical-align: middle;\n",
       "    }\n",
       "\n",
       "    .dataframe tbody tr th {\n",
       "        vertical-align: top;\n",
       "    }\n",
       "\n",
       "    .dataframe thead th {\n",
       "        text-align: right;\n",
       "    }\n",
       "</style>\n",
       "<table border=\"1\" class=\"dataframe\">\n",
       "  <thead>\n",
       "    <tr style=\"text-align: right;\">\n",
       "      <th></th>\n",
       "      <th>Water Quality Classification</th>\n",
       "      <th>min</th>\n",
       "      <th>max</th>\n",
       "    </tr>\n",
       "  </thead>\n",
       "  <tbody>\n",
       "    <tr>\n",
       "      <th>0</th>\n",
       "      <td>Unsuitable for Drinking</td>\n",
       "      <td>300.011380</td>\n",
       "      <td>6850.88872</td>\n",
       "    </tr>\n",
       "    <tr>\n",
       "      <th>1</th>\n",
       "      <td>Very Poor yet Drinkable</td>\n",
       "      <td>200.011080</td>\n",
       "      <td>299.99592</td>\n",
       "    </tr>\n",
       "    <tr>\n",
       "      <th>2</th>\n",
       "      <td>Poor</td>\n",
       "      <td>100.019120</td>\n",
       "      <td>199.99532</td>\n",
       "    </tr>\n",
       "    <tr>\n",
       "      <th>3</th>\n",
       "      <td>Good</td>\n",
       "      <td>50.026635</td>\n",
       "      <td>99.92520</td>\n",
       "    </tr>\n",
       "    <tr>\n",
       "      <th>4</th>\n",
       "      <td>Excellent</td>\n",
       "      <td>9.043604</td>\n",
       "      <td>49.95470</td>\n",
       "    </tr>\n",
       "  </tbody>\n",
       "</table>\n",
       "</div>"
      ],
      "text/plain": [
       "  Water Quality Classification         min         max\n",
       "0      Unsuitable for Drinking  300.011380  6850.88872\n",
       "1      Very Poor yet Drinkable  200.011080   299.99592\n",
       "2                         Poor  100.019120   199.99532\n",
       "3                         Good   50.026635    99.92520\n",
       "4                    Excellent    9.043604    49.95470"
      ]
     },
     "execution_count": 5,
     "metadata": {},
     "output_type": "execute_result"
    }
   ],
   "source": [
    "# Group by classification and calculate min and max WQI\n",
    "wqi_stats = df.groupby('Water Quality Classification', observed=False)['WQI'].agg(['min', 'max']).reset_index()\n",
    "\n",
    "# Display the result\n",
    "print(\"Minimum and Maximum WQI values for each Water Quality Classification:\")\n",
    "wqi_stats"
   ]
  },
  {
   "cell_type": "markdown",
   "metadata": {},
   "source": [
    "### 🧠 Inferring Water Quality Classification from WQI"
   ]
  },
  {
   "cell_type": "markdown",
   "metadata": {},
   "source": [
    "Based on the observed WQI ranges for each classification, we define the following logic to infer the water quality category directly from the Water Quality Index (WQI):"
   ]
  },
  {
   "cell_type": "code",
   "execution_count": 6,
   "metadata": {},
   "outputs": [],
   "source": [
    "def classify_water_quality(wqi):\n",
    "    if wqi >= 300:\n",
    "        return \"Unsuitable for Drinking\"\n",
    "    elif wqi >= 200:\n",
    "        return \"Very Poor yet Drinkable\"\n",
    "    elif wqi >= 100:\n",
    "        return \"Poor\"\n",
    "    elif wqi >= 50:\n",
    "        return \"Good\"\n",
    "    elif wqi >= 0:\n",
    "        return \"Excellent\"\n",
    "    else:\n",
    "        return \"Unknown\""
   ]
  },
  {
   "cell_type": "markdown",
   "metadata": {},
   "source": [
    "This function uses the minimum WQI thresholds observed in each category to assign a classification. It ensures consistency with the dataset and allows automatic labeling based on WQI values."
   ]
  },
  {
   "cell_type": "markdown",
   "metadata": {},
   "source": [
    "# Data Preprocessing"
   ]
  },
  {
   "cell_type": "markdown",
   "metadata": {},
   "source": [
    "Based on the discussions above, we drop the geographical data and the year."
   ]
  },
  {
   "cell_type": "code",
   "execution_count": 7,
   "metadata": {},
   "outputs": [
    {
     "data": {
      "text/html": [
       "<div>\n",
       "<style scoped>\n",
       "    .dataframe tbody tr th:only-of-type {\n",
       "        vertical-align: middle;\n",
       "    }\n",
       "\n",
       "    .dataframe tbody tr th {\n",
       "        vertical-align: top;\n",
       "    }\n",
       "\n",
       "    .dataframe thead th {\n",
       "        text-align: right;\n",
       "    }\n",
       "</style>\n",
       "<table border=\"1\" class=\"dataframe\">\n",
       "  <thead>\n",
       "    <tr style=\"text-align: right;\">\n",
       "      <th></th>\n",
       "      <th>pH</th>\n",
       "      <th>EC</th>\n",
       "      <th>CO3</th>\n",
       "      <th>HCO3</th>\n",
       "      <th>Cl</th>\n",
       "      <th>SO4</th>\n",
       "      <th>NO3</th>\n",
       "      <th>TH</th>\n",
       "      <th>Ca</th>\n",
       "      <th>Mg</th>\n",
       "      <th>Na</th>\n",
       "      <th>K</th>\n",
       "      <th>F</th>\n",
       "      <th>TDS</th>\n",
       "      <th>WQI</th>\n",
       "      <th>Water Quality Classification</th>\n",
       "    </tr>\n",
       "  </thead>\n",
       "  <tbody>\n",
       "    <tr>\n",
       "      <th>0</th>\n",
       "      <td>8.20</td>\n",
       "      <td>16640.0</td>\n",
       "      <td>0.0</td>\n",
       "      <td>1257.0</td>\n",
       "      <td>5176.0</td>\n",
       "      <td>822.0</td>\n",
       "      <td>26.0</td>\n",
       "      <td>1451.0</td>\n",
       "      <td>152.0</td>\n",
       "      <td>260.0</td>\n",
       "      <td>3535.0</td>\n",
       "      <td>45.0</td>\n",
       "      <td>1.0</td>\n",
       "      <td>11149</td>\n",
       "      <td>4361.44080</td>\n",
       "      <td>Unsuitable for Drinking</td>\n",
       "    </tr>\n",
       "    <tr>\n",
       "      <th>1</th>\n",
       "      <td>8.44</td>\n",
       "      <td>299.0</td>\n",
       "      <td>43.0</td>\n",
       "      <td>87.0</td>\n",
       "      <td>21.0</td>\n",
       "      <td>0.0</td>\n",
       "      <td>2.7</td>\n",
       "      <td>84.0</td>\n",
       "      <td>17.0</td>\n",
       "      <td>10.0</td>\n",
       "      <td>39.0</td>\n",
       "      <td>2.4</td>\n",
       "      <td>0.2</td>\n",
       "      <td>262</td>\n",
       "      <td>85.80466</td>\n",
       "      <td>Good</td>\n",
       "    </tr>\n",
       "  </tbody>\n",
       "</table>\n",
       "</div>"
      ],
      "text/plain": [
       "     pH       EC   CO3    HCO3      Cl    SO4   NO3      TH     Ca     Mg  \\\n",
       "0  8.20  16640.0   0.0  1257.0  5176.0  822.0  26.0  1451.0  152.0  260.0   \n",
       "1  8.44    299.0  43.0    87.0    21.0    0.0   2.7    84.0   17.0   10.0   \n",
       "\n",
       "       Na     K    F    TDS         WQI Water Quality Classification  \n",
       "0  3535.0  45.0  1.0  11149  4361.44080      Unsuitable for Drinking  \n",
       "1    39.0   2.4  0.2    262    85.80466                         Good  "
      ]
     },
     "execution_count": 7,
     "metadata": {},
     "output_type": "execute_result"
    }
   ],
   "source": [
    "df.drop(\n",
    "    columns=['Well_ID', 'State', 'District', 'Block', 'Village', 'Latitude', 'Longitude', 'Year'],\n",
    "    inplace=True\n",
    ")\n",
    "\n",
    "df.head(2)"
   ]
  },
  {
   "cell_type": "markdown",
   "metadata": {},
   "source": [
    "We check if the data has nulls and it has no nulls"
   ]
  },
  {
   "cell_type": "code",
   "execution_count": 8,
   "metadata": {},
   "outputs": [
    {
     "name": "stdout",
     "output_type": "stream",
     "text": [
      "Columns with NaNs: []\n",
      "Number of columns with nans: 0\n"
     ]
    }
   ],
   "source": [
    "columns_with_nans = df.columns[df.isna().any()].tolist()\n",
    "\n",
    "# Print the names of columns with NaNs\n",
    "print(\"Columns with NaNs:\", columns_with_nans)\n",
    "print(\"Number of columns with nans:\", len(columns_with_nans))"
   ]
  },
  {
   "cell_type": "markdown",
   "metadata": {},
   "source": [
    "We split it into train and test, using the `WQI` as target (for training), but Keeping the Classification for accuracy calculations (Testing)."
   ]
  },
  {
   "cell_type": "code",
   "execution_count": 9,
   "metadata": {},
   "outputs": [],
   "source": [
    "X = df.drop(columns=['WQI', 'Water Quality Classification'], axis=1)\n",
    "y = df[['WQI', 'Water Quality Classification']]\n",
    "\n",
    "X_train, X_test, y_train, y_test = train_test_split(X, y, test_size=0.2, random_state=0)"
   ]
  },
  {
   "cell_type": "code",
   "execution_count": 10,
   "metadata": {},
   "outputs": [],
   "source": [
    "y_wqi_train = y_train['WQI']\n",
    "y_wqi_train_log = np.log1p(y_wqi_train)\n",
    "y_wqc_train = y_train['Water Quality Classification']\n",
    "y_wqi_test = y_test['WQI']\n",
    "y_wqi_test_log = np.log1p(y_wqi_test)\n",
    "y_wqc_test = y_test['Water Quality Classification']"
   ]
  },
  {
   "cell_type": "markdown",
   "metadata": {},
   "source": [
    "Since we have only numerical variable, we will apply only the numerical transformer."
   ]
  },
  {
   "cell_type": "code",
   "execution_count": null,
   "metadata": {},
   "outputs": [
    {
     "data": {
      "text/plain": [
       "array([[-0.02979018,  0.14572786, -0.21650563,  0.67652914, -0.24683136,\n",
       "         0.5050919 ,  1.04398112,  0.19419423,  0.36278412,  0.00505237,\n",
       "        -0.16240853,  1.35589558, -0.05781317,  0.51670154],\n",
       "       [ 0.98476914, -0.30243767, -0.21650563, -0.42527374, -0.10692488,\n",
       "        -0.30711344, -0.49048852, -0.44246857, -0.87577075, -0.37608272,\n",
       "         0.22038292,  0.71139077,  0.02990003, -0.46028393]])"
      ]
     },
     "execution_count": 11,
     "metadata": {},
     "output_type": "execute_result"
    }
   ],
   "source": [
    "X_scaler = StandardScaler()\n",
    "\n",
    "X_train = X_scaler.fit_transform(X_train)\n",
    "X_test = X_scaler.transform(X_test)\n",
    "\n",
    "X_train[:2]"
   ]
  },
  {
   "cell_type": "markdown",
   "metadata": {},
   "source": [
    "We convert the NumPy arrays into Torch Tensors."
   ]
  },
  {
   "cell_type": "code",
   "execution_count": 12,
   "metadata": {},
   "outputs": [],
   "source": [
    "X_train_tensor = torch.tensor(X_train, dtype=torch.float32)\n",
    "y_train_tensor = torch.tensor(y_wqi_train_log, dtype=torch.float32)\n",
    "X_test_tensor = torch.tensor(X_test, dtype=torch.float32)\n",
    "y_test_tensor = torch.tensor(y_wqi_test_log.values.reshape(-1,1), dtype=torch.float32)"
   ]
  },
  {
   "cell_type": "code",
   "execution_count": 55,
   "metadata": {},
   "outputs": [
    {
     "data": {
      "text/plain": [
       "Text(0.5, 1.0, 'Before log-transformation')"
      ]
     },
     "execution_count": 55,
     "metadata": {},
     "output_type": "execute_result"
    },
    {
     "data": {
      "image/png": "[encoded data removed]",
      "text/plain": [
       "<Figure size 640x480 with 1 Axes>"
      ]
     },
     "metadata": {},
     "output_type": "display_data"
    }
   ],
   "source": [
    "plt.hist(y_wqi_train, bins=100)\n",
    "plt.title(\"Before log-transformation\")"
   ]
  },
  {
   "cell_type": "code",
   "execution_count": 62,
   "metadata": {},
   "outputs": [],
   "source": [
    "y_scaler = StandardScaler()\n",
    "\n",
    "y_wqi_train = y_scaler.fit_transform(y_wqi_train_log.values.reshape(-1,1))"
   ]
  },
  {
   "cell_type": "code",
   "execution_count": 63,
   "metadata": {},
   "outputs": [
    {
     "data": {
      "text/plain": [
       "Text(0.5, 1.0, 'After Log Transformation')"
      ]
     },
     "execution_count": 63,
     "metadata": {},
     "output_type": "execute_result"
    },
    {
     "data": {
      "image/png": "[encoded data removed]",
      "text/plain": [
       "<Figure size 640x480 with 1 Axes>"
      ]
     },
     "metadata": {},
     "output_type": "display_data"
    }
   ],
   "source": [
    "plt.hist(y_wqi_train, bins=100)\n",
    "plt.title(\"After Log Transformation\")"
   ]
  },
  {
   "cell_type": "markdown",
   "metadata": {},
   "source": [
    "After log-transformation, the target has a normal distribution."
   ]
  },
  {
   "cell_type": "markdown",
   "metadata": {},
   "source": [
    "## NN Model"
   ]
  },
  {
   "cell_type": "markdown",
   "metadata": {},
   "source": [
    "We will use MSE."
   ]
  },
  {
   "cell_type": "code",
   "execution_count": 15,
   "metadata": {},
   "outputs": [],
   "source": [
    "def mse_loss(y_pred, y_true):\n",
    "    # Compute squared error\n",
    "    squared_error = (y_pred - y_true) ** 2\n",
    "    \n",
    "    # Return mean of squared error\n",
    "    return torch.mean(squared_error)"
   ]
  },
  {
   "cell_type": "code",
   "execution_count": 16,
   "metadata": {},
   "outputs": [],
   "source": [
    "class Net(nn.Module):\n",
    "    def __init__(self):\n",
    "        super(Net, self).__init__()\n",
    "        # Define the three linear layers\n",
    "        self.fc1 = nn.Linear(X_test_tensor.shape[1], 8)\n",
    "        self.fc2 = nn.Linear(8, 1)\n",
    "        \n",
    "    def forward(self, x):\n",
    "        # Pass x through linear layers adding activations\n",
    "        x = F.relu(self.fc1(x))\n",
    "        x = F.relu(self.fc2(x))\n",
    "        return x"
   ]
  },
  {
   "cell_type": "code",
   "execution_count": 17,
   "metadata": {},
   "outputs": [],
   "source": [
    "train_data = TensorDataset(X_train_tensor, y_train_tensor)"
   ]
  },
  {
   "cell_type": "code",
   "execution_count": 18,
   "metadata": {},
   "outputs": [],
   "source": [
    "model = Net()\n",
    "\n",
    "optimizer = optim.SGD(model.parameters(), lr = 0.001, momentum=0.9)\n",
    "\n",
    "train_loss_list=[]\n",
    "test_loss_list = []\n",
    "\n",
    "num_epochs = 300\n",
    "\n",
    "train_loader = DataLoader(train_data, batch_size= 64, shuffle=True) "
   ]
  },
  {
   "cell_type": "code",
   "execution_count": 19,
   "metadata": {},
   "outputs": [
    {
     "name": "stdout",
     "output_type": "stream",
     "text": [
      "Epoch 1: Train Loss: 0.6832, Test Loss: 0.7154\n",
      "Epoch 10: Train Loss: 0.6015, Test Loss: 0.5581\n",
      "Epoch 20: Train Loss: 0.5990, Test Loss: 0.5513\n",
      "Epoch 30: Train Loss: 0.5999, Test Loss: 0.5248\n",
      "Epoch 40: Train Loss: 0.5986, Test Loss: 0.5569\n",
      "Epoch 50: Train Loss: 0.5987, Test Loss: 0.5448\n",
      "Epoch 60: Train Loss: 0.5986, Test Loss: 0.5460\n",
      "Epoch 70: Train Loss: 0.5986, Test Loss: 0.5553\n",
      "Epoch 80: Train Loss: 0.5989, Test Loss: 0.5457\n",
      "Epoch 90: Train Loss: 0.5997, Test Loss: 0.5364\n",
      "Epoch 100: Train Loss: 0.5989, Test Loss: 0.5388\n",
      "Epoch 110: Train Loss: 0.5992, Test Loss: 0.5471\n",
      "Epoch 120: Train Loss: 0.5987, Test Loss: 0.5478\n",
      "Epoch 130: Train Loss: 0.5992, Test Loss: 0.5494\n",
      "Epoch 140: Train Loss: 0.5988, Test Loss: 0.5402\n",
      "Epoch 150: Train Loss: 0.5990, Test Loss: 0.5602\n",
      "Epoch 160: Train Loss: 0.5991, Test Loss: 0.5506\n",
      "Epoch 170: Train Loss: 0.5995, Test Loss: 0.5356\n",
      "Epoch 180: Train Loss: 0.6012, Test Loss: 0.5558\n",
      "Epoch 190: Train Loss: 0.5996, Test Loss: 0.5399\n",
      "Epoch 200: Train Loss: 0.5994, Test Loss: 0.5540\n",
      "Epoch 210: Train Loss: 0.5994, Test Loss: 0.5607\n",
      "Epoch 220: Train Loss: 0.6004, Test Loss: 0.5419\n",
      "Epoch 230: Train Loss: 0.5991, Test Loss: 0.5388\n",
      "Epoch 240: Train Loss: 0.5985, Test Loss: 0.5523\n",
      "Epoch 250: Train Loss: 0.5989, Test Loss: 0.5380\n",
      "Epoch 260: Train Loss: 0.5988, Test Loss: 0.5477\n",
      "Epoch 270: Train Loss: 0.6018, Test Loss: 0.5416\n",
      "Epoch 280: Train Loss: 0.6004, Test Loss: 0.5472\n",
      "Epoch 290: Train Loss: 0.5989, Test Loss: 0.5494\n",
      "Epoch 300: Train Loss: 0.5993, Test Loss: 0.5468\n"
     ]
    }
   ],
   "source": [
    "# Execute the training loop\n",
    "for epoch in range(num_epochs): # increasing the epochs for effective training\n",
    "    for X_batch, y_batch in train_loader:\n",
    "        # Forward pass\n",
    "        pred = model(X_batch)\n",
    "        loss = mse_loss(pred, y_batch)\n",
    "\n",
    "        # Backward pass and optimization\n",
    "        optimizer.zero_grad()\n",
    "        loss.backward()\n",
    "        optimizer.step()\n",
    "\n",
    "    train_loss = mse_loss(model(X_train_tensor), y_train_tensor).item()\n",
    "    test_loss = mse_loss(model(X_test_tensor), y_test_tensor).item()\n",
    "    train_loss_list.append(train_loss)\n",
    "    test_loss_list.append(test_loss)\n",
    "    if (epoch+1) % 10 == 0 or epoch == 0: # printing after every 10 epochs\n",
    "        print(f'Epoch {epoch+1}: Train Loss: {train_loss:.4f}, Test Loss: {test_loss:.4f}')\n",
    "    "
   ]
  },
  {
   "cell_type": "markdown",
   "metadata": {},
   "source": [
    "## Evaluation"
   ]
  },
  {
   "cell_type": "code",
   "execution_count": 50,
   "metadata": {},
   "outputs": [
    {
     "name": "stdout",
     "output_type": "stream",
     "text": [
      "R² score for WQI prediction: 0.0269\n"
     ]
    }
   ],
   "source": [
    "# Predict WQI values using X_test\n",
    "y_wqi_pred_log = model(X_test_tensor).detach().numpy()\n",
    "\n",
    "# Calculate R² score\n",
    "r2 = r2_score(y_test_tensor, y_wqi_pred_log)\n",
    "\n",
    "# Print the R² score\n",
    "print(f\"R² score for WQI prediction: {r2:.4f}\")"
   ]
  },
  {
   "cell_type": "code",
   "execution_count": 48,
   "metadata": {},
   "outputs": [
    {
     "data": {
      "text/plain": [
       "array([[5.4512863],\n",
       "       [5.4500685],\n",
       "       [5.477727 ],\n",
       "       ...,\n",
       "       [5.4599133],\n",
       "       [5.4546437],\n",
       "       [5.4648576]], shape=(3806, 1), dtype=float32)"
      ]
     },
     "execution_count": 48,
     "metadata": {},
     "output_type": "execute_result"
    }
   ],
   "source": [
    "y_wqi_pred"
   ]
  },
  {
   "cell_type": "code",
   "execution_count": 53,
   "metadata": {},
   "outputs": [
    {
     "data": {
      "text/plain": [
       "tensor([[5.3960],\n",
       "        [5.5171],\n",
       "        [5.9949],\n",
       "        ...,\n",
       "        [5.7845],\n",
       "        [5.6573],\n",
       "        [6.3012]])"
      ]
     },
     "execution_count": 53,
     "metadata": {},
     "output_type": "execute_result"
    }
   ],
   "source": [
    "y_test_tensor"
   ]
  },
  {
   "cell_type": "code",
   "execution_count": 54,
   "metadata": {},
   "outputs": [
    {
     "data": {
      "image/png": "[encoded data removed]",
      "text/plain": [
       "<Figure size 800x600 with 1 Axes>"
      ]
     },
     "metadata": {},
     "output_type": "display_data"
    }
   ],
   "source": [
    "# Create a DataFrame for plotting\n",
    "df_plot = pd.DataFrame({\n",
    "    'Actual WQI': y_test_tensor.flatten(),\n",
    "    'Predicted WQI': y_wqi_pred_log.flatten()\n",
    "})\n",
    "\n",
    "# Create scatter plot using seaborn\n",
    "plt.figure(figsize=(8, 6))\n",
    "sns.scatterplot(x='Actual WQI', y='Predicted WQI', data=df_plot)\n",
    "plt.title('Actual vs Predicted WQI')\n",
    "plt.xlabel('Actual WQI')\n",
    "plt.ylabel('Predicted WQI')\n",
    "plt.grid(True)\n",
    "plt.tight_layout()"
   ]
  },
  {
   "cell_type": "code",
   "execution_count": 33,
   "metadata": {},
   "outputs": [
    {
     "data": {
      "text/plain": [
       "(0.03704676826064109, 0.002646868165568986)"
      ]
     },
     "execution_count": 33,
     "metadata": {},
     "output_type": "execute_result"
    }
   ],
   "source": [
    "y_wqi_pred = pd.Series(y_wqi_pred.flatten())\n",
    "\n",
    "# Apply classification function to predicted WQI values\n",
    "y_wqc_pred = y_wqi_pred.apply(classify_water_quality)\n",
    "\n",
    "# Calculate accuracy and F1 score\n",
    "accuracy = accuracy_score(y_wqc_test, y_wqc_pred)\n",
    "f1 = f1_score(y_wqc_test, y_wqc_pred, average='weighted')\n",
    "\n",
    "# Display results\n",
    "accuracy, f1"
   ]
  }
 ],
 "metadata": {
  "kernelspec": {
   "display_name": ".venv",
   "language": "python",
   "name": "python3"
  },
  "language_info": {
   "codemirror_mode": {
    "name": "ipython",
    "version": 3
   },
   "file_extension": ".py",
   "mimetype": "text/x-python",
   "name": "python",
   "nbconvert_exporter": "python",
   "pygments_lexer": "ipython3",
   "version": "3.12.1"
  }
 },
 "nbformat": 4,
 "nbformat_minor": 4
}
