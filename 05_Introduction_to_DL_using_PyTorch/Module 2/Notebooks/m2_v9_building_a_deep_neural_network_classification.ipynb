{
 "cells": [
  {
   "cell_type": "markdown",
   "metadata": {},
   "source": [
    "Predict if an industry experienced student enrolled in a course is interested in a job change"
   ]
  },
  {
   "cell_type": "markdown",
   "metadata": {},
   "source": [
    "__Zeta Analytics__ is a training institute that conducts training for analytics/ data science and wants to expand its business to manpower recruitment as well. \n",
    "They get a large number of signups for their training. Now, Zeta Analytics wants to connect these enrollees with their clients who are looking to hire employees working in the same domain. Before that, it is important to know which of these candidates are looking for new employment. They have student information related to demographics, education, experience, and features related to training as well.\n",
    "\n",
    "__To understand the factors that lead a person to look for a job change, the agency wants you to design a model that uses the current credentials/demographics/experience to predict the probability of an enrollee looking for a new job ( 0 or 1).__"
   ]
  },
  {
   "cell_type": "markdown",
   "metadata": {},
   "source": [
    "So firstly let's upload our dataset and view it"
   ]
  },
  {
   "cell_type": "code",
   "execution_count": 1,
   "metadata": {},
   "outputs": [],
   "source": [
    "import pandas as pd\n",
    "import numpy as np"
   ]
  },
  {
   "cell_type": "code",
   "execution_count": 2,
   "metadata": {},
   "outputs": [
    {
     "data": {
      "text/html": [
       "<div>\n",
       "<style scoped>\n",
       "    .dataframe tbody tr th:only-of-type {\n",
       "        vertical-align: middle;\n",
       "    }\n",
       "\n",
       "    .dataframe tbody tr th {\n",
       "        vertical-align: top;\n",
       "    }\n",
       "\n",
       "    .dataframe thead th {\n",
       "        text-align: right;\n",
       "    }\n",
       "</style>\n",
       "<table border=\"1\" class=\"dataframe\">\n",
       "  <thead>\n",
       "    <tr style=\"text-align: right;\">\n",
       "      <th></th>\n",
       "      <th>enrollee_id</th>\n",
       "      <th>city</th>\n",
       "      <th>city_development_index</th>\n",
       "      <th>gender</th>\n",
       "      <th>relevent_experience</th>\n",
       "      <th>enrolled_university</th>\n",
       "      <th>education_level</th>\n",
       "      <th>major_discipline</th>\n",
       "      <th>experience</th>\n",
       "      <th>company_size</th>\n",
       "      <th>company_type</th>\n",
       "      <th>last_new_job</th>\n",
       "      <th>training_hours</th>\n",
       "      <th>target</th>\n",
       "    </tr>\n",
       "  </thead>\n",
       "  <tbody>\n",
       "    <tr>\n",
       "      <th>0</th>\n",
       "      <td>23798</td>\n",
       "      <td>city_149</td>\n",
       "      <td>0.689</td>\n",
       "      <td>Male</td>\n",
       "      <td>Has relevent experience</td>\n",
       "      <td>no_enrollment</td>\n",
       "      <td>Graduate</td>\n",
       "      <td>STEM</td>\n",
       "      <td>3</td>\n",
       "      <td>100-500</td>\n",
       "      <td>Pvt Ltd</td>\n",
       "      <td>1</td>\n",
       "      <td>106</td>\n",
       "      <td>0</td>\n",
       "    </tr>\n",
       "    <tr>\n",
       "      <th>1</th>\n",
       "      <td>29166</td>\n",
       "      <td>city_83</td>\n",
       "      <td>0.923</td>\n",
       "      <td>Male</td>\n",
       "      <td>Has relevent experience</td>\n",
       "      <td>no_enrollment</td>\n",
       "      <td>Graduate</td>\n",
       "      <td>STEM</td>\n",
       "      <td>14</td>\n",
       "      <td>&lt;10</td>\n",
       "      <td>Funded Startup</td>\n",
       "      <td>1</td>\n",
       "      <td>69</td>\n",
       "      <td>0</td>\n",
       "    </tr>\n",
       "    <tr>\n",
       "      <th>2</th>\n",
       "      <td>46</td>\n",
       "      <td>city_16</td>\n",
       "      <td>0.910</td>\n",
       "      <td>NaN</td>\n",
       "      <td>Has relevent experience</td>\n",
       "      <td>no_enrollment</td>\n",
       "      <td>Graduate</td>\n",
       "      <td>STEM</td>\n",
       "      <td>6</td>\n",
       "      <td>50-99</td>\n",
       "      <td>Public Sector</td>\n",
       "      <td>2</td>\n",
       "      <td>4</td>\n",
       "      <td>0</td>\n",
       "    </tr>\n",
       "    <tr>\n",
       "      <th>3</th>\n",
       "      <td>18527</td>\n",
       "      <td>city_64</td>\n",
       "      <td>0.666</td>\n",
       "      <td>Male</td>\n",
       "      <td>Has relevent experience</td>\n",
       "      <td>no_enrollment</td>\n",
       "      <td>Graduate</td>\n",
       "      <td>STEM</td>\n",
       "      <td>14</td>\n",
       "      <td>50-99</td>\n",
       "      <td>Pvt Ltd</td>\n",
       "      <td>1</td>\n",
       "      <td>26</td>\n",
       "      <td>0</td>\n",
       "    </tr>\n",
       "    <tr>\n",
       "      <th>4</th>\n",
       "      <td>21751</td>\n",
       "      <td>city_100</td>\n",
       "      <td>0.887</td>\n",
       "      <td>NaN</td>\n",
       "      <td>No relevent experience</td>\n",
       "      <td>no_enrollment</td>\n",
       "      <td>Masters</td>\n",
       "      <td>STEM</td>\n",
       "      <td>8</td>\n",
       "      <td>NaN</td>\n",
       "      <td>NaN</td>\n",
       "      <td>2</td>\n",
       "      <td>88</td>\n",
       "      <td>1</td>\n",
       "    </tr>\n",
       "  </tbody>\n",
       "</table>\n",
       "</div>"
      ],
      "text/plain": [
       "   enrollee_id      city  city_development_index gender  \\\n",
       "0        23798  city_149                   0.689   Male   \n",
       "1        29166   city_83                   0.923   Male   \n",
       "2           46   city_16                   0.910    NaN   \n",
       "3        18527   city_64                   0.666   Male   \n",
       "4        21751  city_100                   0.887    NaN   \n",
       "\n",
       "       relevent_experience enrolled_university education_level  \\\n",
       "0  Has relevent experience       no_enrollment        Graduate   \n",
       "1  Has relevent experience       no_enrollment        Graduate   \n",
       "2  Has relevent experience       no_enrollment        Graduate   \n",
       "3  Has relevent experience       no_enrollment        Graduate   \n",
       "4   No relevent experience       no_enrollment         Masters   \n",
       "\n",
       "  major_discipline experience company_size    company_type last_new_job  \\\n",
       "0             STEM          3      100-500         Pvt Ltd            1   \n",
       "1             STEM         14          <10  Funded Startup            1   \n",
       "2             STEM          6        50-99   Public Sector            2   \n",
       "3             STEM         14        50-99         Pvt Ltd            1   \n",
       "4             STEM          8          NaN             NaN            2   \n",
       "\n",
       "   training_hours  target  \n",
       "0             106       0  \n",
       "1              69       0  \n",
       "2               4       0  \n",
       "3              26       0  \n",
       "4              88       1  "
      ]
     },
     "execution_count": 2,
     "metadata": {},
     "output_type": "execute_result"
    }
   ],
   "source": [
    "# Loading data\n",
    "df = pd.read_csv('Zeta_Analytics Dataset.csv')\n",
    "df.head()"
   ]
  },
  {
   "cell_type": "markdown",
   "metadata": {},
   "source": [
    "Let's quickly view the names of the columns present and columns with missing data."
   ]
  },
  {
   "cell_type": "code",
   "execution_count": 3,
   "metadata": {},
   "outputs": [
    {
     "name": "stdout",
     "output_type": "stream",
     "text": [
      "<class 'pandas.core.frame.DataFrame'>\n",
      "RangeIndex: 18359 entries, 0 to 18358\n",
      "Data columns (total 14 columns):\n",
      " #   Column                  Non-Null Count  Dtype  \n",
      "---  ------                  --------------  -----  \n",
      " 0   enrollee_id             18359 non-null  int64  \n",
      " 1   city                    18359 non-null  object \n",
      " 2   city_development_index  18359 non-null  float64\n",
      " 3   gender                  14261 non-null  object \n",
      " 4   relevent_experience     18359 non-null  object \n",
      " 5   enrolled_university     18017 non-null  object \n",
      " 6   education_level         17902 non-null  object \n",
      " 7   major_discipline        15521 non-null  object \n",
      " 8   experience              18300 non-null  object \n",
      " 9   company_size            13580 non-null  object \n",
      " 10  company_type            13320 non-null  object \n",
      " 11  last_new_job            17992 non-null  object \n",
      " 12  training_hours          18359 non-null  int64  \n",
      " 13  target                  18359 non-null  int64  \n",
      "dtypes: float64(1), int64(3), object(10)\n",
      "memory usage: 2.0+ MB\n"
     ]
    }
   ],
   "source": [
    "df.info()"
   ]
  },
  {
   "cell_type": "markdown",
   "metadata": {},
   "source": [
    "There are a lot of columns with missing data, and some numerical columns are shown as categorical, so we need to do data preprocessing."
   ]
  },
  {
   "cell_type": "markdown",
   "metadata": {},
   "source": [
    "# Data Preprocessing"
   ]
  },
  {
   "cell_type": "markdown",
   "metadata": {},
   "source": [
    "Let's begin data pre-processing with fixing the null values first, just like we did for the earlier regression model as well."
   ]
  },
  {
   "cell_type": "code",
   "execution_count": 4,
   "metadata": {},
   "outputs": [
    {
     "name": "stdout",
     "output_type": "stream",
     "text": [
      "Columns with NaNs: ['gender', 'enrolled_university', 'education_level', 'major_discipline', 'experience', 'company_size', 'company_type', 'last_new_job']\n",
      "Number of columns with nans: 8\n"
     ]
    }
   ],
   "source": [
    "columns_with_nans = df.columns[df.isna().any()].tolist()\n",
    "\n",
    "# Print the names of columns with NaNs\n",
    "print(\"Columns with NaNs:\", columns_with_nans)\n",
    "print(\"Number of columns with nans:\", len(columns_with_nans))"
   ]
  },
  {
   "cell_type": "code",
   "execution_count": 5,
   "metadata": {},
   "outputs": [
    {
     "data": {
      "text/html": [
       "<div>\n",
       "<style scoped>\n",
       "    .dataframe tbody tr th:only-of-type {\n",
       "        vertical-align: middle;\n",
       "    }\n",
       "\n",
       "    .dataframe tbody tr th {\n",
       "        vertical-align: top;\n",
       "    }\n",
       "\n",
       "    .dataframe thead th {\n",
       "        text-align: right;\n",
       "    }\n",
       "</style>\n",
       "<table border=\"1\" class=\"dataframe\">\n",
       "  <thead>\n",
       "    <tr style=\"text-align: right;\">\n",
       "      <th></th>\n",
       "      <th>enrollee_id</th>\n",
       "      <th>city</th>\n",
       "      <th>city_development_index</th>\n",
       "      <th>gender</th>\n",
       "      <th>relevent_experience</th>\n",
       "      <th>enrolled_university</th>\n",
       "      <th>education_level</th>\n",
       "      <th>major_discipline</th>\n",
       "      <th>experience</th>\n",
       "      <th>company_size</th>\n",
       "      <th>company_type</th>\n",
       "      <th>last_new_job</th>\n",
       "      <th>training_hours</th>\n",
       "      <th>target</th>\n",
       "    </tr>\n",
       "  </thead>\n",
       "  <tbody>\n",
       "    <tr>\n",
       "      <th>0</th>\n",
       "      <td>23798</td>\n",
       "      <td>city_149</td>\n",
       "      <td>0.689</td>\n",
       "      <td>Male</td>\n",
       "      <td>Has relevent experience</td>\n",
       "      <td>no_enrollment</td>\n",
       "      <td>Graduate</td>\n",
       "      <td>STEM</td>\n",
       "      <td>3</td>\n",
       "      <td>100-500</td>\n",
       "      <td>Pvt Ltd</td>\n",
       "      <td>1</td>\n",
       "      <td>106</td>\n",
       "      <td>0</td>\n",
       "    </tr>\n",
       "    <tr>\n",
       "      <th>1</th>\n",
       "      <td>29166</td>\n",
       "      <td>city_83</td>\n",
       "      <td>0.923</td>\n",
       "      <td>Male</td>\n",
       "      <td>Has relevent experience</td>\n",
       "      <td>no_enrollment</td>\n",
       "      <td>Graduate</td>\n",
       "      <td>STEM</td>\n",
       "      <td>14</td>\n",
       "      <td>&lt;10</td>\n",
       "      <td>Funded Startup</td>\n",
       "      <td>1</td>\n",
       "      <td>69</td>\n",
       "      <td>0</td>\n",
       "    </tr>\n",
       "  </tbody>\n",
       "</table>\n",
       "</div>"
      ],
      "text/plain": [
       "   enrollee_id      city  city_development_index gender  \\\n",
       "0        23798  city_149                   0.689   Male   \n",
       "1        29166   city_83                   0.923   Male   \n",
       "\n",
       "       relevent_experience enrolled_university education_level  \\\n",
       "0  Has relevent experience       no_enrollment        Graduate   \n",
       "1  Has relevent experience       no_enrollment        Graduate   \n",
       "\n",
       "  major_discipline experience company_size    company_type last_new_job  \\\n",
       "0             STEM          3      100-500         Pvt Ltd            1   \n",
       "1             STEM         14          <10  Funded Startup            1   \n",
       "\n",
       "   training_hours  target  \n",
       "0             106       0  \n",
       "1              69       0  "
      ]
     },
     "execution_count": 5,
     "metadata": {},
     "output_type": "execute_result"
    }
   ],
   "source": [
    "df.head(2)"
   ]
  },
  {
   "cell_type": "markdown",
   "metadata": {},
   "source": [
    "Next, let's replace the categorical columns with null values or NaN using 'NA' to indicate Not Available"
   ]
  },
  {
   "cell_type": "code",
   "execution_count": 6,
   "metadata": {},
   "outputs": [],
   "source": [
    "cat_miss_cols = ['gender', 'enrolled_university', 'education_level', 'major_discipline','company_size', 'company_type']"
   ]
  },
  {
   "cell_type": "code",
   "execution_count": 7,
   "metadata": {},
   "outputs": [
    {
     "name": "stdout",
     "output_type": "stream",
     "text": [
      "['Male' nan 'Female' 'Other']\n",
      "['no_enrollment' 'Full time course' 'Part time course' nan]\n",
      "['Graduate' 'Masters' 'High School' 'Phd' nan 'Primary School']\n",
      "['STEM' 'Other' 'No Major' nan 'Business Degree' 'Arts' 'Humanities']\n",
      "['100-500' '<10' '50-99' nan '5000-9999' '10000+' '1000-4999' '500-999'\n",
      " '10/49']\n",
      "['Pvt Ltd' 'Funded Startup' 'Public Sector' nan 'Early Stage Startup'\n",
      " 'NGO' 'Other']\n"
     ]
    }
   ],
   "source": [
    "for col in cat_miss_cols:\n",
    "    print(df[col].unique())"
   ]
  },
  {
   "cell_type": "code",
   "execution_count": 8,
   "metadata": {},
   "outputs": [],
   "source": [
    "df[cat_miss_cols] = df[cat_miss_cols].fillna('NA')"
   ]
  },
  {
   "cell_type": "markdown",
   "metadata": {},
   "source": [
    "Let's quickly verify if the changes have taken effect."
   ]
  },
  {
   "cell_type": "code",
   "execution_count": 9,
   "metadata": {},
   "outputs": [
    {
     "name": "stdout",
     "output_type": "stream",
     "text": [
      "Columns with NaNs: ['experience', 'last_new_job']\n",
      "Number of columns with nans: 2\n"
     ]
    }
   ],
   "source": [
    "columns_with_nans = df.columns[df.isna().any()].tolist()\n",
    "\n",
    "# Print the names of columns with NaNs\n",
    "print(\"Columns with NaNs:\", columns_with_nans)\n",
    "print(\"Number of columns with nans:\", len(columns_with_nans))"
   ]
  },
  {
   "cell_type": "markdown",
   "metadata": {},
   "source": [
    "Now lets move to numerical columns with missing values"
   ]
  },
  {
   "cell_type": "code",
   "execution_count": 10,
   "metadata": {},
   "outputs": [
    {
     "name": "stdout",
     "output_type": "stream",
     "text": [
      "['3' '14' '6' '8' '>20' '4' '9' '15' '10' '1' '5' '16' '11' '12' '7' '2'\n",
      " '13' '<1' '19' '18' '17' nan '20']\n",
      "['1' '2' '3' '>4' 'never' '4' nan]\n"
     ]
    }
   ],
   "source": [
    "num_miss_cols = ['experience', 'last_new_job']\n",
    "for col in num_miss_cols:\n",
    "    print(df[col].unique())"
   ]
  },
  {
   "cell_type": "markdown",
   "metadata": {},
   "source": [
    "Looks like some of our columns such as experience and last_new_job have a mix of characters and numbers. Let's replace them with text."
   ]
  },
  {
   "cell_type": "markdown",
   "metadata": {},
   "source": [
    "## Replace text data with numbers in some of the columns which have numerical values"
   ]
  },
  {
   "cell_type": "markdown",
   "metadata": {},
   "source": [
    "So lets clip > and < to the highest or lowest range values and replace 'never' with 0."
   ]
  },
  {
   "cell_type": "code",
   "execution_count": 11,
   "metadata": {},
   "outputs": [],
   "source": [
    "for column in num_miss_cols:\n",
    "    # This will replace any '>' or '<' with an empty string\n",
    "    df[column] = df[column].astype(str).str.replace('>', '').astype(str).str.replace('<', '')\n",
    "    df[column] = df[column].astype(str).str.replace('never', '0')"
   ]
  },
  {
   "cell_type": "markdown",
   "metadata": {},
   "source": [
    "Let's quickly verify it the changes have been completed"
   ]
  },
  {
   "cell_type": "code",
   "execution_count": 12,
   "metadata": {},
   "outputs": [
    {
     "name": "stdout",
     "output_type": "stream",
     "text": [
      "['3' '14' '6' '8' '20' '4' '9' '15' '10' '1' '5' '16' '11' '12' '7' '2'\n",
      " '13' '19' '18' '17' 'nan']\n",
      "['1' '2' '3' '4' '0' 'nan']\n"
     ]
    }
   ],
   "source": [
    "num_miss_cols = ['experience', 'last_new_job']\n",
    "for col in num_miss_cols:\n",
    "    print(df[col].unique())"
   ]
  },
  {
   "cell_type": "markdown",
   "metadata": {},
   "source": [
    "Since these columns had strings before cleaning they are not being read as numeric columns. Lets convert them to numeric. "
   ]
  },
  {
   "cell_type": "code",
   "execution_count": 13,
   "metadata": {},
   "outputs": [],
   "source": [
    "for col in num_miss_cols:\n",
    "    df[col] = pd.to_numeric(df[col].replace('nan', np.NaN))"
   ]
  },
  {
   "cell_type": "code",
   "execution_count": 14,
   "metadata": {},
   "outputs": [
    {
     "name": "stdout",
     "output_type": "stream",
     "text": [
      "<class 'pandas.core.frame.DataFrame'>\n",
      "RangeIndex: 18359 entries, 0 to 18358\n",
      "Data columns (total 14 columns):\n",
      " #   Column                  Non-Null Count  Dtype  \n",
      "---  ------                  --------------  -----  \n",
      " 0   enrollee_id             18359 non-null  int64  \n",
      " 1   city                    18359 non-null  object \n",
      " 2   city_development_index  18359 non-null  float64\n",
      " 3   gender                  18359 non-null  object \n",
      " 4   relevent_experience     18359 non-null  object \n",
      " 5   enrolled_university     18359 non-null  object \n",
      " 6   education_level         18359 non-null  object \n",
      " 7   major_discipline        18359 non-null  object \n",
      " 8   experience              18300 non-null  float64\n",
      " 9   company_size            18359 non-null  object \n",
      " 10  company_type            18359 non-null  object \n",
      " 11  last_new_job            17992 non-null  float64\n",
      " 12  training_hours          18359 non-null  int64  \n",
      " 13  target                  18359 non-null  int64  \n",
      "dtypes: float64(3), int64(3), object(8)\n",
      "memory usage: 2.0+ MB\n"
     ]
    }
   ],
   "source": [
    "df.info()"
   ]
  },
  {
   "cell_type": "code",
   "execution_count": 15,
   "metadata": {},
   "outputs": [
    {
     "name": "stdout",
     "output_type": "stream",
     "text": [
      "Columns with NaNs: ['experience', 'last_new_job']\n",
      "Number of columns with nans: 2\n"
     ]
    }
   ],
   "source": [
    "columns_with_nans = df.columns[df.isna().any()].tolist()\n",
    "\n",
    "# Print the names of columns with NaNs\n",
    "print(\"Columns with NaNs:\", columns_with_nans)\n",
    "print(\"Number of columns with nans:\", len(columns_with_nans))"
   ]
  },
  {
   "cell_type": "markdown",
   "metadata": {},
   "source": [
    "For these 2 columns experience and last job, the idea is to fill them using a median value since they are key features and replacing them with zeroes may impact the model performance. We will do this with median from train data, after splitting the dataset, to prevent data leakage. "
   ]
  },
  {
   "cell_type": "markdown",
   "metadata": {},
   "source": [
    "## Transform data in the categorical columns by converting then into numerical form, for use with ML algorithms"
   ]
  },
  {
   "cell_type": "code",
   "execution_count": 16,
   "metadata": {},
   "outputs": [
    {
     "data": {
      "text/plain": [
       "Index(['city', 'gender', 'relevent_experience', 'enrolled_university',\n",
       "       'education_level', 'major_discipline', 'company_size', 'company_type'],\n",
       "      dtype='object')"
      ]
     },
     "execution_count": 16,
     "metadata": {},
     "output_type": "execute_result"
    }
   ],
   "source": [
    "cat_cols = df.select_dtypes(include='O').columns\n",
    "cat_cols"
   ]
  },
  {
   "cell_type": "code",
   "execution_count": 17,
   "metadata": {},
   "outputs": [
    {
     "name": "stdout",
     "output_type": "stream",
     "text": [
      "city\n",
      "123\n",
      "gender\n",
      "4\n",
      "relevent_experience\n",
      "2\n",
      "enrolled_university\n",
      "4\n",
      "education_level\n",
      "6\n",
      "major_discipline\n",
      "7\n",
      "company_size\n",
      "9\n",
      "company_type\n",
      "7\n"
     ]
    }
   ],
   "source": [
    "for col in cat_cols:\n",
    "    print(col)\n",
    "    print(df[col].nunique())"
   ]
  },
  {
   "cell_type": "markdown",
   "metadata": {},
   "source": [
    "In these columns, thec column \"City\" has too many categories, which may not add any value as such to the models training. We will be dropping it. You may try to see the performnace by using this columns as well. Also the column \"Enrollee_id\" is an ID column, that too can be dropped."
   ]
  },
  {
   "cell_type": "code",
   "execution_count": 18,
   "metadata": {},
   "outputs": [],
   "source": [
    "df.drop(['enrollee_id', 'city'], axis=1, inplace=True)\n",
    "cat_cols = df.select_dtypes(include='O').columns\n"
   ]
  },
  {
   "cell_type": "code",
   "execution_count": 19,
   "metadata": {},
   "outputs": [
    {
     "name": "stdout",
     "output_type": "stream",
     "text": [
      "gender\n",
      "['Male' 'NA' 'Female' 'Other']\n",
      "relevent_experience\n",
      "['Has relevent experience' 'No relevent experience']\n",
      "enrolled_university\n",
      "['no_enrollment' 'Full time course' 'Part time course' 'NA']\n",
      "education_level\n",
      "['Graduate' 'Masters' 'High School' 'Phd' 'NA' 'Primary School']\n",
      "major_discipline\n",
      "['STEM' 'Other' 'No Major' 'NA' 'Business Degree' 'Arts' 'Humanities']\n",
      "company_size\n",
      "['100-500' '<10' '50-99' 'NA' '5000-9999' '10000+' '1000-4999' '500-999'\n",
      " '10/49']\n",
      "company_type\n",
      "['Pvt Ltd' 'Funded Startup' 'Public Sector' 'NA' 'Early Stage Startup'\n",
      " 'NGO' 'Other']\n"
     ]
    }
   ],
   "source": [
    "for col in cat_cols:\n",
    "    print(col)\n",
    "    print(df[col].unique())"
   ]
  },
  {
   "cell_type": "markdown",
   "metadata": {},
   "source": [
    "Further, over here columns like  \"education level\" and \"company size\" have a clear order, and will be transformed using an ordinal encoder, with NA in between. Others will be transformed using One hot encoder. \n",
    "An ordinal encoder is a technique used to convert categorical data into integer codes, ranging from 0 to n-1, where n is the number of unique categories for the feature. Unlike one-hot encoding, which creates a new binary column for each category, ordinal encoding maintains a single column and assigns a unique integer to each category in an order."
   ]
  },
  {
   "cell_type": "code",
   "execution_count": 20,
   "metadata": {},
   "outputs": [],
   "source": [
    "from sklearn.preprocessing import  OrdinalEncoder"
   ]
  },
  {
   "cell_type": "code",
   "execution_count": 21,
   "metadata": {},
   "outputs": [
    {
     "data": {
      "text/plain": [
       "[array(['Primary School', 'High School', 'NA', 'Graduate', 'Masters',\n",
       "        'Phd'], dtype=object)]"
      ]
     },
     "execution_count": 21,
     "metadata": {},
     "output_type": "execute_result"
    }
   ],
   "source": [
    "oc = OrdinalEncoder(\n",
    "    categories= [['Primary School', 'High School', 'NA','Graduate', 'Masters', 'Phd' ]])\n",
    "df[['education_level']] = oc.fit_transform(df[['education_level']])\n",
    "oc.categories_"
   ]
  },
  {
   "cell_type": "code",
   "execution_count": 22,
   "metadata": {},
   "outputs": [
    {
     "data": {
      "text/plain": [
       "[array(['<10', '10/49', '50-99', '100-500', '500-999', 'NA', '1000-4999',\n",
       "        '5000-9999', '10000+'], dtype=object)]"
      ]
     },
     "execution_count": 22,
     "metadata": {},
     "output_type": "execute_result"
    }
   ],
   "source": [
    "oc2 = OrdinalEncoder(\n",
    "    categories= [[ '<10', '10/49', '50-99', '100-500', '500-999', 'NA', '1000-4999', '5000-9999', '10000+']])\n",
    "df[['company_size']] = oc2.fit_transform(df[['company_size']])\n",
    "oc2.categories_"
   ]
  },
  {
   "cell_type": "code",
   "execution_count": 23,
   "metadata": {},
   "outputs": [
    {
     "data": {
      "text/html": [
       "<div>\n",
       "<style scoped>\n",
       "    .dataframe tbody tr th:only-of-type {\n",
       "        vertical-align: middle;\n",
       "    }\n",
       "\n",
       "    .dataframe tbody tr th {\n",
       "        vertical-align: top;\n",
       "    }\n",
       "\n",
       "    .dataframe thead th {\n",
       "        text-align: right;\n",
       "    }\n",
       "</style>\n",
       "<table border=\"1\" class=\"dataframe\">\n",
       "  <thead>\n",
       "    <tr style=\"text-align: right;\">\n",
       "      <th></th>\n",
       "      <th>city_development_index</th>\n",
       "      <th>education_level</th>\n",
       "      <th>experience</th>\n",
       "      <th>company_size</th>\n",
       "      <th>last_new_job</th>\n",
       "      <th>training_hours</th>\n",
       "      <th>target</th>\n",
       "      <th>gender_Male</th>\n",
       "      <th>gender_NA</th>\n",
       "      <th>gender_Other</th>\n",
       "      <th>...</th>\n",
       "      <th>major_discipline_NA</th>\n",
       "      <th>major_discipline_No Major</th>\n",
       "      <th>major_discipline_Other</th>\n",
       "      <th>major_discipline_STEM</th>\n",
       "      <th>company_type_Funded Startup</th>\n",
       "      <th>company_type_NA</th>\n",
       "      <th>company_type_NGO</th>\n",
       "      <th>company_type_Other</th>\n",
       "      <th>company_type_Public Sector</th>\n",
       "      <th>company_type_Pvt Ltd</th>\n",
       "    </tr>\n",
       "  </thead>\n",
       "  <tbody>\n",
       "    <tr>\n",
       "      <th>0</th>\n",
       "      <td>0.689</td>\n",
       "      <td>3.0</td>\n",
       "      <td>3.0</td>\n",
       "      <td>3.0</td>\n",
       "      <td>1.0</td>\n",
       "      <td>106</td>\n",
       "      <td>0</td>\n",
       "      <td>True</td>\n",
       "      <td>False</td>\n",
       "      <td>False</td>\n",
       "      <td>...</td>\n",
       "      <td>False</td>\n",
       "      <td>False</td>\n",
       "      <td>False</td>\n",
       "      <td>True</td>\n",
       "      <td>False</td>\n",
       "      <td>False</td>\n",
       "      <td>False</td>\n",
       "      <td>False</td>\n",
       "      <td>False</td>\n",
       "      <td>True</td>\n",
       "    </tr>\n",
       "    <tr>\n",
       "      <th>1</th>\n",
       "      <td>0.923</td>\n",
       "      <td>3.0</td>\n",
       "      <td>14.0</td>\n",
       "      <td>0.0</td>\n",
       "      <td>1.0</td>\n",
       "      <td>69</td>\n",
       "      <td>0</td>\n",
       "      <td>True</td>\n",
       "      <td>False</td>\n",
       "      <td>False</td>\n",
       "      <td>...</td>\n",
       "      <td>False</td>\n",
       "      <td>False</td>\n",
       "      <td>False</td>\n",
       "      <td>True</td>\n",
       "      <td>True</td>\n",
       "      <td>False</td>\n",
       "      <td>False</td>\n",
       "      <td>False</td>\n",
       "      <td>False</td>\n",
       "      <td>False</td>\n",
       "    </tr>\n",
       "    <tr>\n",
       "      <th>2</th>\n",
       "      <td>0.910</td>\n",
       "      <td>3.0</td>\n",
       "      <td>6.0</td>\n",
       "      <td>2.0</td>\n",
       "      <td>2.0</td>\n",
       "      <td>4</td>\n",
       "      <td>0</td>\n",
       "      <td>False</td>\n",
       "      <td>True</td>\n",
       "      <td>False</td>\n",
       "      <td>...</td>\n",
       "      <td>False</td>\n",
       "      <td>False</td>\n",
       "      <td>False</td>\n",
       "      <td>True</td>\n",
       "      <td>False</td>\n",
       "      <td>False</td>\n",
       "      <td>False</td>\n",
       "      <td>False</td>\n",
       "      <td>True</td>\n",
       "      <td>False</td>\n",
       "    </tr>\n",
       "    <tr>\n",
       "      <th>3</th>\n",
       "      <td>0.666</td>\n",
       "      <td>3.0</td>\n",
       "      <td>14.0</td>\n",
       "      <td>2.0</td>\n",
       "      <td>1.0</td>\n",
       "      <td>26</td>\n",
       "      <td>0</td>\n",
       "      <td>True</td>\n",
       "      <td>False</td>\n",
       "      <td>False</td>\n",
       "      <td>...</td>\n",
       "      <td>False</td>\n",
       "      <td>False</td>\n",
       "      <td>False</td>\n",
       "      <td>True</td>\n",
       "      <td>False</td>\n",
       "      <td>False</td>\n",
       "      <td>False</td>\n",
       "      <td>False</td>\n",
       "      <td>False</td>\n",
       "      <td>True</td>\n",
       "    </tr>\n",
       "    <tr>\n",
       "      <th>4</th>\n",
       "      <td>0.887</td>\n",
       "      <td>4.0</td>\n",
       "      <td>8.0</td>\n",
       "      <td>5.0</td>\n",
       "      <td>2.0</td>\n",
       "      <td>88</td>\n",
       "      <td>1</td>\n",
       "      <td>False</td>\n",
       "      <td>True</td>\n",
       "      <td>False</td>\n",
       "      <td>...</td>\n",
       "      <td>False</td>\n",
       "      <td>False</td>\n",
       "      <td>False</td>\n",
       "      <td>True</td>\n",
       "      <td>False</td>\n",
       "      <td>True</td>\n",
       "      <td>False</td>\n",
       "      <td>False</td>\n",
       "      <td>False</td>\n",
       "      <td>False</td>\n",
       "    </tr>\n",
       "  </tbody>\n",
       "</table>\n",
       "<p>5 rows × 26 columns</p>\n",
       "</div>"
      ],
      "text/plain": [
       "   city_development_index  education_level  experience  company_size  \\\n",
       "0                   0.689              3.0         3.0           3.0   \n",
       "1                   0.923              3.0        14.0           0.0   \n",
       "2                   0.910              3.0         6.0           2.0   \n",
       "3                   0.666              3.0        14.0           2.0   \n",
       "4                   0.887              4.0         8.0           5.0   \n",
       "\n",
       "   last_new_job  training_hours  target  gender_Male  gender_NA  gender_Other  \\\n",
       "0           1.0             106       0         True      False         False   \n",
       "1           1.0              69       0         True      False         False   \n",
       "2           2.0               4       0        False       True         False   \n",
       "3           1.0              26       0         True      False         False   \n",
       "4           2.0              88       1        False       True         False   \n",
       "\n",
       "   ...  major_discipline_NA  major_discipline_No Major  \\\n",
       "0  ...                False                      False   \n",
       "1  ...                False                      False   \n",
       "2  ...                False                      False   \n",
       "3  ...                False                      False   \n",
       "4  ...                False                      False   \n",
       "\n",
       "   major_discipline_Other  major_discipline_STEM  company_type_Funded Startup  \\\n",
       "0                   False                   True                        False   \n",
       "1                   False                   True                         True   \n",
       "2                   False                   True                        False   \n",
       "3                   False                   True                        False   \n",
       "4                   False                   True                        False   \n",
       "\n",
       "   company_type_NA  company_type_NGO  company_type_Other  \\\n",
       "0            False             False               False   \n",
       "1            False             False               False   \n",
       "2            False             False               False   \n",
       "3            False             False               False   \n",
       "4             True             False               False   \n",
       "\n",
       "   company_type_Public Sector  company_type_Pvt Ltd  \n",
       "0                       False                  True  \n",
       "1                       False                 False  \n",
       "2                        True                 False  \n",
       "3                       False                  True  \n",
       "4                       False                 False  \n",
       "\n",
       "[5 rows x 26 columns]"
      ]
     },
     "execution_count": 23,
     "metadata": {},
     "output_type": "execute_result"
    }
   ],
   "source": [
    "df = pd.get_dummies(df, drop_first=True)\n",
    "df.head()"
   ]
  },
  {
   "cell_type": "markdown",
   "metadata": {},
   "source": [
    "That brings us to the end of pre-processing. Let's now split our data into train and test data in the ratio 80:20."
   ]
  },
  {
   "cell_type": "markdown",
   "metadata": {},
   "source": [
    "# Create the train and test dataset, by splitting the input dataframe in the ratio 80:20"
   ]
  },
  {
   "cell_type": "code",
   "execution_count": 24,
   "metadata": {},
   "outputs": [],
   "source": [
    "from sklearn.model_selection import train_test_split"
   ]
  },
  {
   "cell_type": "code",
   "execution_count": 25,
   "metadata": {},
   "outputs": [],
   "source": [
    "# Split data\n",
    "X = df.drop('target', axis=1)\n",
    "y = df['target']\n",
    "# test_size of 0.2 means train_size is 80% and test_size is 20$\n",
    "X_train, X_test, y_train, y_test = train_test_split(X, y, test_size=0.2, random_state=42)\n"
   ]
  },
  {
   "cell_type": "markdown",
   "metadata": {},
   "source": [
    "Next like we explained earlier let's fill missing values in numercial columns with median and then proceed to normalize it."
   ]
  },
  {
   "cell_type": "code",
   "execution_count": 26,
   "metadata": {},
   "outputs": [
    {
     "name": "stdout",
     "output_type": "stream",
     "text": [
      "9.0\n",
      "1.0\n"
     ]
    }
   ],
   "source": [
    "exp_median = X_train['experience'].median()\n",
    "print(exp_median)\n",
    "\n",
    "X_train.fillna({'experience': exp_median}, inplace=True)\n",
    "X_test.fillna({'experience': exp_median}, inplace=True)\n",
    "\n",
    "lnj_median = X_train['last_new_job'].median()\n",
    "print(lnj_median)\n",
    "\n",
    "X_train.fillna({'last_new_job': exp_median}, inplace=True)\n",
    "X_test.fillna({'last_new_job': exp_median}, inplace=True)\n"
   ]
  },
  {
   "cell_type": "code",
   "execution_count": 27,
   "metadata": {},
   "outputs": [],
   "source": [
    "from sklearn.preprocessing import MinMaxScaler"
   ]
  },
  {
   "cell_type": "code",
   "execution_count": 28,
   "metadata": {},
   "outputs": [],
   "source": [
    "# Normalize data by scaling the train and test datasets\n",
    "scaler = MinMaxScaler()\n",
    "X_train = scaler.fit_transform(X_train)\n",
    "X_test = scaler.transform(X_test)\n",
    "y_train = y_train.values\n",
    "y_test = y_test.values\n"
   ]
  },
  {
   "cell_type": "markdown",
   "metadata": {},
   "source": [
    "For this data, let's quickly view the data distribution of target. This is in order to understand which evaluation metric to choose. "
   ]
  },
  {
   "cell_type": "code",
   "execution_count": 29,
   "metadata": {},
   "outputs": [
    {
     "data": {
      "text/plain": [
       "target\n",
       "0    15934\n",
       "1     2425\n",
       "Name: count, dtype: int64"
      ]
     },
     "execution_count": 29,
     "metadata": {},
     "output_type": "execute_result"
    }
   ],
   "source": [
    "df.target.value_counts()"
   ]
  },
  {
   "cell_type": "markdown",
   "metadata": {},
   "source": [
    "The dataset is imbalanced. So we can use a metric like auc score as the metric for this problem."
   ]
  },
  {
   "cell_type": "markdown",
   "metadata": {},
   "source": [
    "# Define the classes for our dataset and for the Neural Network"
   ]
  },
  {
   "cell_type": "markdown",
   "metadata": {},
   "source": [
    "Let's now go ahead and define our neural network. Ensure you import the necessary libraries before you begin defining the network."
   ]
  },
  {
   "cell_type": "code",
   "execution_count": 30,
   "metadata": {},
   "outputs": [],
   "source": [
    "import torch\n",
    "import torch.nn as nn\n",
    "import torch.nn.functional as F\n",
    "from torch.utils.data import TensorDataset, DataLoader, Dataset\n",
    "import torch.optim as optim\n",
    "from sklearn.metrics import roc_auc_score\n",
    "import matplotlib.pyplot as plt"
   ]
  },
  {
   "cell_type": "code",
   "execution_count": 31,
   "metadata": {},
   "outputs": [],
   "source": [
    "# Encapsulate out dataset as a class, which inherits from the torch Dataset class\n",
    "class JobChangeDataset(Dataset):\n",
    "    def __init__(self, features, labels):\n",
    "        self.features = features\n",
    "        self.labels = labels\n",
    "\n",
    "    def __len__(self):\n",
    "        return len(self.features)\n",
    "\n",
    "    def __getitem__(self, idx):\n",
    "        return self.features[idx], self.labels[idx]"
   ]
  },
  {
   "cell_type": "code",
   "execution_count": 32,
   "metadata": {},
   "outputs": [],
   "source": [
    "# Define the neural network Model\n",
    "class BinaryClassifier(nn.Module):\n",
    "    def __init__(self):\n",
    "        super(BinaryClassifier, self).__init__()\n",
    "        self.layer1 = nn.Linear(X_train.shape[1], 256)\n",
    "        self.layer2 = nn.Linear(256, 128)\n",
    "        self.layer3 = nn.Linear(128, 64)\n",
    "        self.layer4 = nn.Linear(64, 1)\n",
    "        \n",
    "    def forward(self, x):\n",
    "        x = F.relu(self.layer1(x))\n",
    "        x = F.relu(self.layer2(x))\n",
    "        x = F.relu(self.layer3(x))\n",
    "        x = F.sigmoid(self.layer4(x))\n",
    "        return x\n"
   ]
  },
  {
   "cell_type": "markdown",
   "metadata": {},
   "source": [
    "So now we've designed a fully connected dense neural network for our binary classification task. It consists of four layers with ReLU activation functions applied to the first three layers and a sigmoid activation function applied to the output of the fourth layer to ensure the output is in the range [0, 1]."
   ]
  },
  {
   "cell_type": "markdown",
   "metadata": {},
   "source": [
    "With our neural network defined and data ready, let's convert the numpy arrays to pytorch tensors."
   ]
  },
  {
   "cell_type": "code",
   "execution_count": 33,
   "metadata": {},
   "outputs": [],
   "source": [
    "import torch\n",
    "# Convert numpy to PyTorch tensors\n",
    "X_train_tensor = torch.tensor(X_train, dtype=torch.float32)\n",
    "y_train_tensor = torch.tensor(y_train, dtype=torch.float32)\n",
    "X_test_tensor = torch.tensor(X_test, dtype=torch.float32)\n",
    "y_test_tensor = torch.tensor(y_test, dtype=torch.float32)"
   ]
  },
  {
   "cell_type": "markdown",
   "metadata": {},
   "source": [
    "# Define the function to train our NN model and evaluate it"
   ]
  },
  {
   "cell_type": "markdown",
   "metadata": {},
   "source": [
    "Next i'm going to run the code to train our neural network model. Here yet again we are going to define our model inside a function train_and_evaluate model. This model will use a BCE loss function which is the mostly commonly used loss function for binary classification problems. It will then optimize and backwardpropogate the losses after which the values will be printed for every 10 epochs for both train and the test data. Additionally this function will also plot the train and test loss acoss epochs. This will help us to evaluate the presence of overfitiing."
   ]
  },
  {
   "cell_type": "code",
   "execution_count": 34,
   "metadata": {},
   "outputs": [],
   "source": [
    "# Training and Evaluation Loop\n",
    "def train_and_evaluate_model(model, optimizer, batch_size = 128, epochs=25, print_every=5):\n",
    "    model.train()  # set model to train mode\n",
    "\n",
    "    train_loss_list=[]\n",
    "    test_loss_list = []\n",
    "\n",
    "    # Convert the tensor based data to torch Dataset objects\n",
    "    train_dataset = JobChangeDataset(X_train_tensor, y_train_tensor)\n",
    "    # Define torch data loader objects for these datasets\n",
    "    train_loader = DataLoader(dataset=train_dataset, batch_size=batch_size, shuffle=True)\n",
    "    \n",
    "    test_dataset = JobChangeDataset(X_test_tensor, y_test_tensor)\n",
    "    test_loader = DataLoader(dataset=test_dataset, batch_size=batch_size, shuffle=False)\n",
    "\n",
    "    criterion = nn.BCELoss()\n",
    "\n",
    "    # Train for the defined number of epochs\n",
    "    for epoch in range(epochs):\n",
    "        train_loss = 0.0\n",
    "        for i, (features, labels) in enumerate(train_loader):\n",
    "            optimizer.zero_grad() # Clear the gradients of all optimized variables\n",
    "            outputs = model(features) # pass our data(input features) through the model\n",
    "            loss = criterion(outputs.squeeze(), labels) # calculate the loss between model outputs and expected labels\n",
    "            loss.backward() # Backward pass: compute the gradient of the loss with respect to model parameters\n",
    "            optimizer.step() # Perform a single optimization step (parameter update)\n",
    "            train_loss += loss.item() # Accumulate the training loss to later calculate the average\n",
    "        \n",
    "        # Calculate the average training loss for current epoch\n",
    "        train_loss = train_loss / len(train_loader)\n",
    "        train_loss_list.append(train_loss)\n",
    "\n",
    "        # Evaluate on test set\n",
    "        model.eval() # Switch model to evaluation mode\n",
    "\n",
    "\n",
    "        \n",
    "        test_loss = 0.0\n",
    "        # Disable gradient calculation for evaluation to save memory and computations\n",
    "        with torch.no_grad():\n",
    "            # Iterate over the test dataset\n",
    "            for features, labels in test_loader:\n",
    "                outputs = model(features) # Forward pass: compute the output of the model by passing the input features\n",
    "                loss = criterion(outputs.squeeze(), labels) # Calculate the loss between the model output and expected labels\n",
    "                test_loss += loss.item() # Accumulate the test loss to later calculate the average\n",
    "            train_auc = roc_auc_score(y_train_tensor, model(X_train_tensor))\n",
    "            test_auc = roc_auc_score(y_test_tensor, model(X_test_tensor))\n",
    "        \n",
    "        # Calculate test loss for epoch\n",
    "        test_loss = test_loss / len(test_loader)\n",
    "        test_loss_list.append(test_loss)\n",
    "\n",
    "        # Print losses\n",
    "        if (epoch + 1) % print_every == 0:\n",
    "            print(f'Epoch {epoch+1}/{epochs},Train Loss: {train_loss:.4f}, Test Loss: {test_loss:.4f}, Train Auc: {train_auc:.4f}, Test Auc: {test_auc:.4f}')\n",
    "\n",
    "    plt.plot(range(epochs),train_loss_list, label = 'train')\n",
    "    plt.plot(range(epochs),test_loss_list, label = 'test')\n",
    "    plt.xlabel('Epochs')\n",
    "    plt.ylabel('Loss')\n",
    "    plt.title('Training and Test Loss')\n",
    "    plt.legend()\n",
    "    plt.show()\n",
    "\n",
    "    \n",
    "    "
   ]
  },
  {
   "cell_type": "markdown",
   "metadata": {},
   "source": [
    "## Train the model with the SGD optimizer"
   ]
  },
  {
   "cell_type": "markdown",
   "metadata": {},
   "source": [
    "Let's use an SGD optimizer and re-run this code to check if the performance improves or not. "
   ]
  },
  {
   "cell_type": "code",
   "execution_count": 35,
   "metadata": {},
   "outputs": [
    {
     "name": "stdout",
     "output_type": "stream",
     "text": [
      "Epoch 10/100,Train Loss: 0.3736, Test Loss: 0.3842, Train Auc: 0.6479, Test Auc: 0.6393\n",
      "Epoch 20/100,Train Loss: 0.3709, Test Loss: 0.3831, Train Auc: 0.6576, Test Auc: 0.6438\n",
      "Epoch 30/100,Train Loss: 0.3696, Test Loss: 0.3834, Train Auc: 0.6633, Test Auc: 0.6453\n",
      "Epoch 40/100,Train Loss: 0.3683, Test Loss: 0.3820, Train Auc: 0.6691, Test Auc: 0.6466\n",
      "Epoch 50/100,Train Loss: 0.3670, Test Loss: 0.3824, Train Auc: 0.6742, Test Auc: 0.6481\n",
      "Epoch 60/100,Train Loss: 0.3659, Test Loss: 0.3833, Train Auc: 0.6800, Test Auc: 0.6480\n",
      "Epoch 70/100,Train Loss: 0.3648, Test Loss: 0.3831, Train Auc: 0.6875, Test Auc: 0.6462\n",
      "Epoch 80/100,Train Loss: 0.3626, Test Loss: 0.3871, Train Auc: 0.6947, Test Auc: 0.6457\n",
      "Epoch 90/100,Train Loss: 0.3606, Test Loss: 0.3858, Train Auc: 0.7035, Test Auc: 0.6464\n",
      "Epoch 100/100,Train Loss: 0.3591, Test Loss: 0.3847, Train Auc: 0.7104, Test Auc: 0.6445\n"
     ]
    },
    {
     "data": {
      "image/png": "[encoded data removed]",
      "text/plain": [
       "<Figure size 640x480 with 1 Axes>"
      ]
     },
     "metadata": {},
     "output_type": "display_data"
    }
   ],
   "source": [
    "# We have to create a new model class here due the pass-by-reference feature of python functions\n",
    "model = BinaryClassifier()\n",
    "# Initialize SGD optimizer\n",
    "opt = optim.SGD(model.parameters(), lr=0.01, momentum=0.9, nesterov=True)\n",
    "# Train using optimizer_sgd\n",
    "train_and_evaluate_model(model, opt, epochs=100, print_every=10)"
   ]
  },
  {
   "cell_type": "markdown",
   "metadata": {},
   "source": [
    "The AUROC scores for this model after 100 epochs using SGD optimizer stand at VALUE on the train data and VALUE on the test data. Notice how the score does not improve significantly on test set after 10 epochs, but keeps on increasing on the train set. The model is clearly overfitting and noticeably the test loss on the epochs is also increasing gradually after 40 epochs. Moreover, there were certain epochs earlier in the training where the score was slightly better on the test set, but then decreased marginally. We could have stopped the training when the performance was best. We will learn about this in the next module.  Let's check if using Adam optimizer improves this score and can reduce the overfitting here. "
   ]
  },
  {
   "cell_type": "markdown",
   "metadata": {},
   "source": [
    "## Train the model with the Adam optimizer"
   ]
  },
  {
   "cell_type": "code",
   "execution_count": 36,
   "metadata": {},
   "outputs": [
    {
     "name": "stdout",
     "output_type": "stream",
     "text": [
      "Epoch 10/100,Train Loss: 0.3662, Test Loss: 0.3864, Train Auc: 0.6888, Test Auc: 0.6502\n",
      "Epoch 20/100,Train Loss: 0.3529, Test Loss: 0.3979, Train Auc: 0.7237, Test Auc: 0.6257\n",
      "Epoch 30/100,Train Loss: 0.3395, Test Loss: 0.4118, Train Auc: 0.7551, Test Auc: 0.6208\n",
      "Epoch 40/100,Train Loss: 0.3236, Test Loss: 0.4417, Train Auc: 0.7813, Test Auc: 0.5937\n",
      "Epoch 50/100,Train Loss: 0.3071, Test Loss: 0.4975, Train Auc: 0.8132, Test Auc: 0.5795\n",
      "Epoch 60/100,Train Loss: 0.2883, Test Loss: 0.5673, Train Auc: 0.8403, Test Auc: 0.5777\n",
      "Epoch 70/100,Train Loss: 0.2688, Test Loss: 0.6713, Train Auc: 0.8616, Test Auc: 0.5698\n",
      "Epoch 80/100,Train Loss: 0.2550, Test Loss: 0.7419, Train Auc: 0.8766, Test Auc: 0.5597\n",
      "Epoch 90/100,Train Loss: 0.2501, Test Loss: 0.7818, Train Auc: 0.8889, Test Auc: 0.5522\n",
      "Epoch 100/100,Train Loss: 0.2290, Test Loss: 0.9024, Train Auc: 0.9018, Test Auc: 0.5429\n"
     ]
    },
    {
     "data": {
      "image/png": "[encoded data removed]",
      "text/plain": [
       "<Figure size 640x480 with 1 Axes>"
      ]
     },
     "metadata": {},
     "output_type": "display_data"
    }
   ],
   "source": [
    "model = BinaryClassifier()\n",
    "# Initialize SGD optimizer\n",
    "opt = optim.Adam(model.parameters())\n",
    "# Train using optimizer_sgd\n",
    "train_and_evaluate_model(model, opt, epochs=100, print_every=10)"
   ]
  },
  {
   "cell_type": "markdown",
   "metadata": {},
   "source": [
    "__HERE EVEN MORE  EXTREME INC IN TEST LOSS__"
   ]
  },
  {
   "cell_type": "markdown",
   "metadata": {},
   "source": [
    "As you can see, the model is even more  overfitting as the number of epochs are increasing. The test loss is increasing exponentially after 40 epochs.  Deep Neural networks often get into these kind of problems. \n",
    "\n",
    "To solve these problems, let's move onto our next module \"Improving deep learning networks\" where we shall learn to improve the models performance. I'll see you there!"
   ]
  }
 ],
 "metadata": {
  "kernelspec": {
   "display_name": "Python 3",
   "language": "python",
   "name": "python3"
  },
  "language_info": {
   "codemirror_mode": {
    "name": "ipython",
    "version": 3
   },
   "file_extension": ".py",
   "mimetype": "text/x-python",
   "name": "python",
   "nbconvert_exporter": "python",
   "pygments_lexer": "ipython3",
   "version": "3.10.6"
  }
 },
 "nbformat": 4,
 "nbformat_minor": 4
}
