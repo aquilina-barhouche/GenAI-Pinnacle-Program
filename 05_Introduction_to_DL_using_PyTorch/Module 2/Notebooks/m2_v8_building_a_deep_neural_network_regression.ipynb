{
 "cells": [
  {
   "cell_type": "markdown",
   "metadata": {},
   "source": [
    "# Predict customers' credit future spend on card, based on historical spend data and demographic parameters"
   ]
  },
  {
   "cell_type": "markdown",
   "metadata": {},
   "source": [
    "Understanding the consumption pattern for credit cards at an individual consumer level is important for customer relationship management. This understanding allows banks to customize for consumers and make strategic marketing plans. Thus it is imperative to study the relationship between the characteristics of the consumers and their consumption patterns. __Bank of Trust__ has given a sample of their customers, along with their details like age, gender and other demographics. __Bank of Trust__ has also shared information on liabilities, assets and history of transactions with the bank for each customer. In addition to the above, data has been provided for a particular set of customers' credit card spend in the previous 3 months (April, May & June) and their expected average spend in the coming 3 months (July, August & September). The goal is to predict the average spend for the customers for the upcomning 3 months. "
   ]
  },
  {
   "cell_type": "code",
   "execution_count": 1,
   "metadata": {},
   "outputs": [],
   "source": [
    "import pandas as pd"
   ]
  },
  {
   "cell_type": "code",
   "execution_count": 2,
   "metadata": {},
   "outputs": [
    {
     "data": {
      "text/html": [
       "<div>\n",
       "<style scoped>\n",
       "    .dataframe tbody tr th:only-of-type {\n",
       "        vertical-align: middle;\n",
       "    }\n",
       "\n",
       "    .dataframe tbody tr th {\n",
       "        vertical-align: top;\n",
       "    }\n",
       "\n",
       "    .dataframe thead th {\n",
       "        text-align: right;\n",
       "    }\n",
       "</style>\n",
       "<table border=\"1\" class=\"dataframe\">\n",
       "  <thead>\n",
       "    <tr style=\"text-align: right;\">\n",
       "      <th></th>\n",
       "      <th>id</th>\n",
       "      <th>account_type</th>\n",
       "      <th>gender</th>\n",
       "      <th>age</th>\n",
       "      <th>region_code</th>\n",
       "      <th>cc_cons_apr</th>\n",
       "      <th>dc_cons_apr</th>\n",
       "      <th>cc_cons_may</th>\n",
       "      <th>dc_cons_may</th>\n",
       "      <th>cc_cons_jun</th>\n",
       "      <th>...</th>\n",
       "      <th>debit_count_may</th>\n",
       "      <th>max_credit_amount_may</th>\n",
       "      <th>debit_amount_jun</th>\n",
       "      <th>credit_amount_jun</th>\n",
       "      <th>credit_count_jun</th>\n",
       "      <th>debit_count_jun</th>\n",
       "      <th>max_credit_amount_jun</th>\n",
       "      <th>loan_enq</th>\n",
       "      <th>emi_active</th>\n",
       "      <th>cc_cons</th>\n",
       "    </tr>\n",
       "  </thead>\n",
       "  <tbody>\n",
       "    <tr>\n",
       "      <th>0</th>\n",
       "      <td>23334</td>\n",
       "      <td>saving</td>\n",
       "      <td>M</td>\n",
       "      <td>63</td>\n",
       "      <td>305</td>\n",
       "      <td>7695.00</td>\n",
       "      <td>NaN</td>\n",
       "      <td>479.00</td>\n",
       "      <td>NaN</td>\n",
       "      <td>622.0</td>\n",
       "      <td>...</td>\n",
       "      <td>2.0</td>\n",
       "      <td>45000.0</td>\n",
       "      <td>20215.85</td>\n",
       "      <td>1279.37</td>\n",
       "      <td>7.0</td>\n",
       "      <td>3.0</td>\n",
       "      <td>470.0</td>\n",
       "      <td>NaN</td>\n",
       "      <td>0.00</td>\n",
       "      <td>435</td>\n",
       "    </tr>\n",
       "    <tr>\n",
       "      <th>1</th>\n",
       "      <td>20329</td>\n",
       "      <td>current</td>\n",
       "      <td>M</td>\n",
       "      <td>33</td>\n",
       "      <td>326</td>\n",
       "      <td>52702.00</td>\n",
       "      <td>988.72</td>\n",
       "      <td>29873.00</td>\n",
       "      <td>NaN</td>\n",
       "      <td>1087.0</td>\n",
       "      <td>...</td>\n",
       "      <td>10.0</td>\n",
       "      <td>150000.0</td>\n",
       "      <td>122037.66</td>\n",
       "      <td>55390.00</td>\n",
       "      <td>8.0</td>\n",
       "      <td>19.0</td>\n",
       "      <td>27000.0</td>\n",
       "      <td>NaN</td>\n",
       "      <td>4963.33</td>\n",
       "      <td>1921</td>\n",
       "    </tr>\n",
       "    <tr>\n",
       "      <th>2</th>\n",
       "      <td>17679</td>\n",
       "      <td>current</td>\n",
       "      <td>M</td>\n",
       "      <td>44</td>\n",
       "      <td>264</td>\n",
       "      <td>10800.49</td>\n",
       "      <td>3215.52</td>\n",
       "      <td>21659.64</td>\n",
       "      <td>1607.0</td>\n",
       "      <td>1168.0</td>\n",
       "      <td>...</td>\n",
       "      <td>7.0</td>\n",
       "      <td>13800.0</td>\n",
       "      <td>46827.00</td>\n",
       "      <td>29297.91</td>\n",
       "      <td>6.0</td>\n",
       "      <td>19.0</td>\n",
       "      <td>20800.0</td>\n",
       "      <td>NaN</td>\n",
       "      <td>0.00</td>\n",
       "      <td>1970</td>\n",
       "    </tr>\n",
       "    <tr>\n",
       "      <th>3</th>\n",
       "      <td>16428</td>\n",
       "      <td>saving</td>\n",
       "      <td>M</td>\n",
       "      <td>44</td>\n",
       "      <td>233</td>\n",
       "      <td>20936.00</td>\n",
       "      <td>NaN</td>\n",
       "      <td>2094.00</td>\n",
       "      <td>NaN</td>\n",
       "      <td>11778.5</td>\n",
       "      <td>...</td>\n",
       "      <td>1.0</td>\n",
       "      <td>19300.0</td>\n",
       "      <td>5426.55</td>\n",
       "      <td>7544.00</td>\n",
       "      <td>3.0</td>\n",
       "      <td>1.0</td>\n",
       "      <td>5300.0</td>\n",
       "      <td>NaN</td>\n",
       "      <td>1238.18</td>\n",
       "      <td>21579</td>\n",
       "    </tr>\n",
       "    <tr>\n",
       "      <th>4</th>\n",
       "      <td>18721</td>\n",
       "      <td>saving</td>\n",
       "      <td>F</td>\n",
       "      <td>35</td>\n",
       "      <td>324</td>\n",
       "      <td>1183.83</td>\n",
       "      <td>NaN</td>\n",
       "      <td>3656.29</td>\n",
       "      <td>NaN</td>\n",
       "      <td>945.0</td>\n",
       "      <td>...</td>\n",
       "      <td>3.0</td>\n",
       "      <td>3000.0</td>\n",
       "      <td>26178.05</td>\n",
       "      <td>53483.00</td>\n",
       "      <td>4.0</td>\n",
       "      <td>4.0</td>\n",
       "      <td>45000.0</td>\n",
       "      <td>NaN</td>\n",
       "      <td>0.00</td>\n",
       "      <td>1814</td>\n",
       "    </tr>\n",
       "  </tbody>\n",
       "</table>\n",
       "<p>5 rows × 44 columns</p>\n",
       "</div>"
      ],
      "text/plain": [
       "      id account_type gender  age  region_code  cc_cons_apr  dc_cons_apr  \\\n",
       "0  23334       saving      M   63          305      7695.00          NaN   \n",
       "1  20329      current      M   33          326     52702.00       988.72   \n",
       "2  17679      current      M   44          264     10800.49      3215.52   \n",
       "3  16428       saving      M   44          233     20936.00          NaN   \n",
       "4  18721       saving      F   35          324      1183.83          NaN   \n",
       "\n",
       "   cc_cons_may  dc_cons_may  cc_cons_jun  ...  debit_count_may  \\\n",
       "0       479.00          NaN        622.0  ...              2.0   \n",
       "1     29873.00          NaN       1087.0  ...             10.0   \n",
       "2     21659.64       1607.0       1168.0  ...              7.0   \n",
       "3      2094.00          NaN      11778.5  ...              1.0   \n",
       "4      3656.29          NaN        945.0  ...              3.0   \n",
       "\n",
       "   max_credit_amount_may  debit_amount_jun  credit_amount_jun  \\\n",
       "0                45000.0          20215.85            1279.37   \n",
       "1               150000.0         122037.66           55390.00   \n",
       "2                13800.0          46827.00           29297.91   \n",
       "3                19300.0           5426.55            7544.00   \n",
       "4                 3000.0          26178.05           53483.00   \n",
       "\n",
       "   credit_count_jun  debit_count_jun  max_credit_amount_jun  loan_enq  \\\n",
       "0               7.0              3.0                  470.0       NaN   \n",
       "1               8.0             19.0                27000.0       NaN   \n",
       "2               6.0             19.0                20800.0       NaN   \n",
       "3               3.0              1.0                 5300.0       NaN   \n",
       "4               4.0              4.0                45000.0       NaN   \n",
       "\n",
       "   emi_active  cc_cons  \n",
       "0        0.00      435  \n",
       "1     4963.33     1921  \n",
       "2        0.00     1970  \n",
       "3     1238.18    21579  \n",
       "4        0.00     1814  \n",
       "\n",
       "[5 rows x 44 columns]"
      ]
     },
     "execution_count": 2,
     "metadata": {},
     "output_type": "execute_result"
    }
   ],
   "source": [
    "# Loading data\n",
    "df = pd.read_csv('Bank of Trust Dataset.csv')\n",
    "# Split the data into features (X) and target (y)\n",
    "df.head()"
   ]
  },
  {
   "cell_type": "markdown",
   "metadata": {},
   "source": [
    "# Data Preprocessing"
   ]
  },
  {
   "cell_type": "code",
   "execution_count": 3,
   "metadata": {},
   "outputs": [
    {
     "name": "stdout",
     "output_type": "stream",
     "text": [
      "Columns with NaNs: ['dc_cons_apr', 'dc_cons_may', 'dc_cons_jun', 'cc_count_apr', 'cc_count_may', 'cc_count_jun', 'dc_count_apr', 'dc_count_may', 'dc_count_jun', 'card_lim', 'personal_loan_active', 'vehicle_loan_active', 'personal_loan_closed', 'vehicle_loan_closed', 'investment_1', 'investment_2', 'investment_3', 'investment_4', 'debit_amount_apr', 'credit_amount_apr', 'debit_count_apr', 'credit_count_apr', 'max_credit_amount_apr', 'debit_amount_may', 'credit_amount_may', 'credit_count_may', 'debit_count_may', 'max_credit_amount_may', 'debit_amount_jun', 'credit_amount_jun', 'credit_count_jun', 'debit_count_jun', 'max_credit_amount_jun', 'loan_enq']\n",
      "LNumber of columns with nans: 34\n"
     ]
    }
   ],
   "source": [
    "columns_with_nans = df.columns[df.isna().any()].tolist()\n",
    "\n",
    "# Print the names of columns with NaNs\n",
    "print(\"Columns with NaNs:\", columns_with_nans)\n",
    "print(\"LNumber of columns with nans:\", len(columns_with_nans))"
   ]
  },
  {
   "cell_type": "code",
   "execution_count": 4,
   "metadata": {},
   "outputs": [],
   "source": [
    "# List of numeric columns where we have to replace NaN values with 0\n",
    "# Note: ideally we have to check with a domain expert whether filling a specific e,pty cells with 0 is appropriate\n",
    "numeric_columns = [\n",
    "    'dc_cons_apr', 'dc_cons_may', 'dc_cons_jun', 'cc_count_apr', 'cc_count_may', 'cc_count_jun',\n",
    "    'dc_count_apr', 'dc_count_may', 'dc_count_jun', 'card_lim', 'personal_loan_active', 'vehicle_loan_active',\n",
    "    'personal_loan_closed', 'vehicle_loan_closed', 'investment_1', 'investment_2', 'investment_3', 'investment_4',\n",
    "    'debit_amount_apr', 'credit_amount_apr', 'debit_count_apr', 'credit_count_apr', 'max_credit_amount_apr',\n",
    "    'debit_amount_may', 'credit_amount_may', 'credit_count_may', 'debit_count_may', 'max_credit_amount_may',\n",
    "    'debit_amount_jun', 'credit_amount_jun', 'credit_count_jun', 'debit_count_jun', 'max_credit_amount_jun'\n",
    "]\n",
    "\n",
    "# Fill NaN values with 0 in the specified columns\n",
    "df[numeric_columns] = df[numeric_columns].fillna(0)"
   ]
  },
  {
   "cell_type": "code",
   "execution_count": 5,
   "metadata": {},
   "outputs": [
    {
     "name": "stdout",
     "output_type": "stream",
     "text": [
      "Columns with NaNs: ['loan_enq']\n",
      "Number of columns with nans: 1\n"
     ]
    }
   ],
   "source": [
    "# Find columns with NaN values, and test that our zero filling has worked\n",
    "columns_with_nans = df.columns[df.isna().any()].tolist()\n",
    "\n",
    "# Print the names of columns with NaNs\n",
    "print(\"Columns with NaNs:\", columns_with_nans)\n",
    "print(\"Number of columns with nans:\", len(columns_with_nans))"
   ]
  },
  {
   "cell_type": "code",
   "execution_count": 6,
   "metadata": {},
   "outputs": [],
   "source": [
    "# Replace NaN values in the \"loan_enq\" column with 'N'\n",
    "df.fillna({'loan_enq': 'N'}, inplace=True)"
   ]
  },
  {
   "cell_type": "code",
   "execution_count": null,
   "metadata": {},
   "outputs": [],
   "source": [
    "from sklearn.preprocessing import StandardScaler, OneHotEncoder\n",
    "from sklearn.compose import ColumnTransformer\n",
    "from sklearn.model_selection import train_test_split\n",
    "\n",
    "# for classification use StandardScaler\n",
    "# for regression use min max"
   ]
  },
  {
   "cell_type": "code",
   "execution_count": 17,
   "metadata": {},
   "outputs": [],
   "source": [
    "#  df has our data\n",
    "X = df.drop('cc_cons', axis=1)\n",
    "y = df['cc_cons']\n",
    "\n",
    "# Define numerical and categorical features\n",
    "numerical_cols = X.select_dtypes(include=['int64', 'float64']).columns\n",
    "categorical_cols = ['account_type', 'gender', 'loan_enq']\n",
    "\n",
    "# Create the preprocessing pipelines: scaling for numerical data, and encoding for categorical data\n",
    "numerical_transformer = StandardScaler()\n",
    "categorical_transformer = OneHotEncoder(handle_unknown='ignore')\n",
    "\n",
    "preprocessor = ColumnTransformer(\n",
    "    transformers=[\n",
    "        ('num', numerical_transformer, numerical_cols),\n",
    "        ('cat', categorical_transformer, categorical_cols)\n",
    "    ])\n",
    "\n",
    "# Split the dataset into training and testing sets\n",
    "X_train, X_test, y_train, y_test = train_test_split(X, y, test_size=0.2, random_state=0)"
   ]
  },
  {
   "cell_type": "code",
   "execution_count": 18,
   "metadata": {},
   "outputs": [
    {
     "data": {
      "text/html": [
       "<div>\n",
       "<style scoped>\n",
       "    .dataframe tbody tr th:only-of-type {\n",
       "        vertical-align: middle;\n",
       "    }\n",
       "\n",
       "    .dataframe tbody tr th {\n",
       "        vertical-align: top;\n",
       "    }\n",
       "\n",
       "    .dataframe thead th {\n",
       "        text-align: right;\n",
       "    }\n",
       "</style>\n",
       "<table border=\"1\" class=\"dataframe\">\n",
       "  <thead>\n",
       "    <tr style=\"text-align: right;\">\n",
       "      <th></th>\n",
       "      <th>id</th>\n",
       "      <th>account_type</th>\n",
       "      <th>gender</th>\n",
       "      <th>age</th>\n",
       "      <th>region_code</th>\n",
       "      <th>cc_cons_apr</th>\n",
       "      <th>dc_cons_apr</th>\n",
       "      <th>cc_cons_may</th>\n",
       "      <th>dc_cons_may</th>\n",
       "      <th>cc_cons_jun</th>\n",
       "      <th>...</th>\n",
       "      <th>credit_count_may</th>\n",
       "      <th>debit_count_may</th>\n",
       "      <th>max_credit_amount_may</th>\n",
       "      <th>debit_amount_jun</th>\n",
       "      <th>credit_amount_jun</th>\n",
       "      <th>credit_count_jun</th>\n",
       "      <th>debit_count_jun</th>\n",
       "      <th>max_credit_amount_jun</th>\n",
       "      <th>loan_enq</th>\n",
       "      <th>emi_active</th>\n",
       "    </tr>\n",
       "  </thead>\n",
       "  <tbody>\n",
       "    <tr>\n",
       "      <th>12665</th>\n",
       "      <td>29125</td>\n",
       "      <td>current</td>\n",
       "      <td>M</td>\n",
       "      <td>40</td>\n",
       "      <td>424</td>\n",
       "      <td>20011.05</td>\n",
       "      <td>0.0</td>\n",
       "      <td>7665.48</td>\n",
       "      <td>19991.0</td>\n",
       "      <td>11681.0</td>\n",
       "      <td>...</td>\n",
       "      <td>3.0</td>\n",
       "      <td>16.0</td>\n",
       "      <td>41000.0</td>\n",
       "      <td>62879.04</td>\n",
       "      <td>53597.93</td>\n",
       "      <td>6.0</td>\n",
       "      <td>14.0</td>\n",
       "      <td>48000.0</td>\n",
       "      <td>N</td>\n",
       "      <td>1474.3</td>\n",
       "    </tr>\n",
       "    <tr>\n",
       "      <th>20050</th>\n",
       "      <td>22432</td>\n",
       "      <td>current</td>\n",
       "      <td>M</td>\n",
       "      <td>22</td>\n",
       "      <td>723</td>\n",
       "      <td>9859.00</td>\n",
       "      <td>3473.0</td>\n",
       "      <td>1037.00</td>\n",
       "      <td>1187.0</td>\n",
       "      <td>5612.5</td>\n",
       "      <td>...</td>\n",
       "      <td>2.0</td>\n",
       "      <td>11.0</td>\n",
       "      <td>16901.0</td>\n",
       "      <td>26597.51</td>\n",
       "      <td>7612.00</td>\n",
       "      <td>4.0</td>\n",
       "      <td>15.0</td>\n",
       "      <td>5000.0</td>\n",
       "      <td>N</td>\n",
       "      <td>0.0</td>\n",
       "    </tr>\n",
       "  </tbody>\n",
       "</table>\n",
       "<p>2 rows × 43 columns</p>\n",
       "</div>"
      ],
      "text/plain": [
       "          id account_type gender  age  region_code  cc_cons_apr  dc_cons_apr  \\\n",
       "12665  29125      current      M   40          424     20011.05          0.0   \n",
       "20050  22432      current      M   22          723      9859.00       3473.0   \n",
       "\n",
       "       cc_cons_may  dc_cons_may  cc_cons_jun  ...  credit_count_may  \\\n",
       "12665      7665.48      19991.0      11681.0  ...               3.0   \n",
       "20050      1037.00       1187.0       5612.5  ...               2.0   \n",
       "\n",
       "       debit_count_may  max_credit_amount_may  debit_amount_jun  \\\n",
       "12665             16.0                41000.0          62879.04   \n",
       "20050             11.0                16901.0          26597.51   \n",
       "\n",
       "       credit_amount_jun  credit_count_jun  debit_count_jun  \\\n",
       "12665           53597.93               6.0             14.0   \n",
       "20050            7612.00               4.0             15.0   \n",
       "\n",
       "       max_credit_amount_jun  loan_enq  emi_active  \n",
       "12665                48000.0         N      1474.3  \n",
       "20050                 5000.0         N         0.0  \n",
       "\n",
       "[2 rows x 43 columns]"
      ]
     },
     "execution_count": 18,
     "metadata": {},
     "output_type": "execute_result"
    }
   ],
   "source": [
    "X_train.head(2)"
   ]
  },
  {
   "cell_type": "code",
   "execution_count": 19,
   "metadata": {},
   "outputs": [
    {
     "data": {
      "text/plain": [
       "12665      620\n",
       "20050      372\n",
       "893       1943\n",
       "21491      881\n",
       "21726    32020\n",
       "Name: cc_cons, dtype: int64"
      ]
     },
     "execution_count": 19,
     "metadata": {},
     "output_type": "execute_result"
    }
   ],
   "source": [
    "y_train.head()"
   ]
  },
  {
   "cell_type": "code",
   "execution_count": null,
   "metadata": {},
   "outputs": [
    {
     "data": {
      "text/plain": [
       "array([[ 0.41790163,  0.4745146 , -0.69416884,  0.1361498 , -0.29384331,\n",
       "        -0.29183089,  1.69499864,  0.17088608, -0.25094642,  0.7182671 ,\n",
       "         0.08670607,  1.4641179 , -0.46561127,  0.51434489,  0.11224179,\n",
       "        -0.32097467, -0.30053314, -0.16231651, -0.31103353, -0.22952608,\n",
       "        -0.03597118, -0.09708223, -0.08974727, -0.07060041,  0.06925065,\n",
       "         0.16428121,  0.92651539, -0.45717374,  0.04908393,  0.04821203,\n",
       "        -0.15356069, -0.21744647,  0.25178783, -0.03094002, -0.03885138,\n",
       "        -0.08091006,  0.10020071, -0.09427075,  0.05936268, -0.03039879,\n",
       "         1.        ,  0.        ,  0.        ,  1.        ,  1.        ,\n",
       "         0.        ],\n",
       "       [-0.07777052, -1.62230825,  0.89441764, -0.27413141,  0.12727036,\n",
       "        -0.58731224, -0.14295897, -0.216256  , -0.14192995, -0.59589067,\n",
       "        -0.84069138, -0.81919138,  0.59388377, -0.15915283, -0.01792696,\n",
       "        -0.74445332, -0.30053314, -0.16231651, -0.31103353, -0.22952608,\n",
       "        -0.03597118, -0.09708223, -0.08974727, -0.07060041, -0.31916562,\n",
       "        -0.29986038,  1.35208811, -0.45717374, -0.21039366, -0.35581793,\n",
       "        -0.34597159, -0.47467893, -0.17907202, -0.25944434, -0.20277276,\n",
       "        -0.29276148, -0.31789542, -0.01966792, -0.38058529, -0.03545317,\n",
       "         1.        ,  0.        ,  0.        ,  1.        ,  1.        ,\n",
       "         0.        ]])"
      ]
     },
     "execution_count": 20,
     "metadata": {},
     "output_type": "execute_result"
    }
   ],
   "source": [
    "# Apply the scaling and encoding transformations\n",
    "X_train = preprocessor.fit_transform(X_train)\n",
    "X_test = preprocessor.transform(X_test)\n",
    "X_train[:2]\n",
    "# data leak mitigated by fitting Mu and Sigma on training only"
   ]
  },
  {
   "cell_type": "code",
   "execution_count": 12,
   "metadata": {},
   "outputs": [],
   "source": [
    "import torch\n",
    "# Convert numpy to PyTorch tensors\n",
    "X_train_tensor = torch.tensor(X_train, dtype=torch.float32)\n",
    "y_train_tensor = torch.tensor(y_train, dtype=torch.float32)\n",
    "X_test_tensor = torch.tensor(X_test, dtype=torch.float32)\n",
    "y_test_tensor = torch.tensor(y_test.values.reshape(-1,1), dtype=torch.float32)"
   ]
  },
  {
   "cell_type": "code",
   "execution_count": 13,
   "metadata": {},
   "outputs": [
    {
     "data": {
      "image/png": "[encoded data removed]",
      "text/plain": [
       "<Figure size 640x480 with 1 Axes>"
      ]
     },
     "metadata": {},
     "output_type": "display_data"
    }
   ],
   "source": [
    "import matplotlib.pyplot as plt\n",
    "plt.hist(y_train_tensor, bins=100)\n",
    "plt.show()"
   ]
  },
  {
   "cell_type": "code",
   "execution_count": 21,
   "metadata": {},
   "outputs": [],
   "source": [
    "# rmsle is used when we have a long tail distribution \n",
    "# Define a custom root mean square logarithmic error function\n",
    "def rmsle(y_pred, y_true):\n",
    "\n",
    "    # Ensure that predictions are positive + 1 to avoid log(0)\n",
    "    y_pred = torch.clamp(y_pred, min=0) + 1\n",
    "    y_true = torch.clamp(y_true, min=0) + 1\n",
    "    \n",
    "    # Calculate the logarithms and compute the squared difference\n",
    "    log_pred = torch.log(y_pred)\n",
    "    log_true = torch.log(y_true)\n",
    "    squared_log_error = (log_pred - log_true) ** 2\n",
    "    \n",
    "    # Compute mean of squared log error and take the square root\n",
    "    mean_squared_log_error = torch.mean(squared_log_error)\n",
    "    rmsle = torch.sqrt(mean_squared_log_error)\n",
    "    \n",
    "    return rmsle"
   ]
  },
  {
   "cell_type": "markdown",
   "metadata": {},
   "source": [
    "# Model Training"
   ]
  },
  {
   "cell_type": "code",
   "execution_count": 22,
   "metadata": {},
   "outputs": [],
   "source": [
    "import torch.nn as nn\n",
    "import torch.nn.functional as F\n",
    "from torch.utils.data import TensorDataset, DataLoader\n",
    "import torch.optim as optim"
   ]
  },
  {
   "cell_type": "code",
   "execution_count": 24,
   "metadata": {},
   "outputs": [],
   "source": [
    "class Net(nn.Module):\n",
    "    def __init__(self):\n",
    "        super(Net, self).__init__()\n",
    "        # Define the three linear layers\n",
    "        self.fc1 = nn.Linear(X_test_tensor.shape[1], 128)\n",
    "        self.fc2 = nn.Linear(128, 64)\n",
    "        self.fc3 = nn.Linear(64,32)\n",
    "        self.fc4 = nn.Linear(32,1)\n",
    "        \n",
    "    def forward(self, x):\n",
    "        # Pass x through linear layers adding activations\n",
    "        x = F.relu(self.fc1(x))\n",
    "        x = F.relu(self.fc2(x))\n",
    "        x = F.relu(self.fc3(x))\n",
    "        x = self.fc4(x)\n",
    "        return x"
   ]
  },
  {
   "cell_type": "code",
   "execution_count": 25,
   "metadata": {},
   "outputs": [],
   "source": [
    "train_data = TensorDataset(X_train_tensor, y_train_tensor)"
   ]
  },
  {
   "cell_type": "code",
   "execution_count": 26,
   "metadata": {},
   "outputs": [
    {
     "name": "stdout",
     "output_type": "stream",
     "text": [
      "Epoch 5: Train Loss: 1.5495, Test Loss: 1.5583\n",
      "Epoch 10: Train Loss: 1.3237, Test Loss: 1.3367\n",
      "Epoch 15: Train Loss: 1.3155, Test Loss: 1.3273\n",
      "Epoch 20: Train Loss: 1.3149, Test Loss: 1.3253\n",
      "Epoch 25: Train Loss: 1.3147, Test Loss: 1.3240\n",
      "Epoch 30: Train Loss: 1.3145, Test Loss: 1.3229\n"
     ]
    }
   ],
   "source": [
    "model = Net()\n",
    "optimizer = optim.SGD(model.parameters(), lr = 0.001, momentum=0.9)\n",
    "train_loss_list=[]\n",
    "test_loss_list = []\n",
    "num_epochs = 30\n",
    "train_loader = DataLoader(train_data, batch_size= 64, shuffle=True) \n",
    "# Execute the training loop\n",
    "for epoch in range(num_epochs): # increasing the epochs for effective training\n",
    "    for X_batch, y_batch in train_loader:\n",
    "        # Forward pass\n",
    "        pred = model(X_batch)\n",
    "        loss = rmsle(pred, y_batch)\n",
    "\n",
    "        # Backward pass and optimization\n",
    "        optimizer.zero_grad()\n",
    "        loss.backward()\n",
    "        optimizer.step()\n",
    "\n",
    "    train_loss = rmsle(model(X_train_tensor), y_train_tensor).item()\n",
    "        # print(epoch,': ', train_loss)\n",
    "    test_loss = rmsle(model(X_test_tensor), y_test_tensor).item()\n",
    "    train_loss_list.append(train_loss)\n",
    "    test_loss_list.append(test_loss)\n",
    "    if (epoch+1) % 5 == 0: # printing after every 100 epochs\n",
    "        print(f'Epoch {epoch+1}: Train Loss: {train_loss:.4f}, Test Loss: {test_loss:.4f}')\n",
    "    "
   ]
  },
  {
   "cell_type": "code",
   "execution_count": 27,
   "metadata": {},
   "outputs": [
    {
     "data": {
      "image/png": "[encoded data removed]",
      "text/plain": [
       "<Figure size 640x480 with 1 Axes>"
      ]
     },
     "metadata": {},
     "output_type": "display_data"
    }
   ],
   "source": [
    "plt.plot(range(num_epochs),train_loss_list, label = 'train')\n",
    "plt.plot(range(num_epochs),test_loss_list, label = 'test')\n",
    "plt.legend()\n",
    "plt.show()"
   ]
  },
  {
   "cell_type": "code",
   "execution_count": 28,
   "metadata": {},
   "outputs": [],
   "source": [
    "class Net(nn.Module):\n",
    "    def __init__(self):\n",
    "        super(Net, self).__init__()\n",
    "        # Define the three linear layers\n",
    "        self.fc1 = nn.Linear(X_test_tensor.shape[1], 512)\n",
    "        self.fc2 = nn.Linear(512, 128)\n",
    "        self.fc3 = nn.Linear(128,32)\n",
    "        self.fc4 = nn.Linear(32,1)\n",
    "        \n",
    "    def forward(self, x):\n",
    "        # Pass x through linear layers adding activations\n",
    "        x = F.relu(self.fc1(x))\n",
    "        x = F.relu(self.fc2(x))\n",
    "        x = F.relu(self.fc3(x))\n",
    "        x = self.fc4(x)\n",
    "        return x"
   ]
  },
  {
   "cell_type": "code",
   "execution_count": null,
   "metadata": {},
   "outputs": [
    {
     "name": "stdout",
     "output_type": "stream",
     "text": [
      "Epoch 5: Train Loss: 1.3167, Test Loss: 1.3200\n",
      "Epoch 10: Train Loss: 1.3120, Test Loss: 1.3154\n",
      "Epoch 15: Train Loss: 1.3114, Test Loss: 1.3156\n",
      "Epoch 20: Train Loss: 1.3134, Test Loss: 1.3149\n",
      "Epoch 25: Train Loss: 1.3107, Test Loss: 1.3142\n",
      "Epoch 30: Train Loss: 1.3109, Test Loss: 1.3121\n"
     ]
    }
   ],
   "source": [
    "model = Net()\n",
    "optimizer = optim.Ada(model.parameters())\n",
    "train_loss_list=[]\n",
    "test_loss_list = []\n",
    "num_epochs = 30\n",
    "train_loader = DataLoader(train_data, batch_size= 128, shuffle=True) \n",
    "# Execute the training loop\n",
    "for epoch in range(num_epochs): # increasing the epochs for effective training\n",
    "    for X_batch, y_batch in train_loader:\n",
    "        # Forward pass\n",
    "        pred = model(X_batch)\n",
    "        loss = rmsle(pred, y_batch)\n",
    "\n",
    "        # Backward pass and optimization\n",
    "        optimizer.zero_grad()\n",
    "        loss.backward()\n",
    "        optimizer.step()\n",
    "\n",
    "    train_loss = rmsle(model(X_train_tensor), y_train_tensor).item()\n",
    "        # print(epoch,': ', train_loss)\n",
    "    test_loss = rmsle(model(X_test_tensor), y_test_tensor).item()\n",
    "    train_loss_list.append(train_loss)\n",
    "    test_loss_list.append(test_loss)\n",
    "    if (epoch+1) % 5 == 0: # printing after every 100 epochs\n",
    "        print(f'Epoch {epoch+1}: Train Loss: {train_loss:.4f}, Test Loss: {test_loss:.4f}')\n",
    "    "
   ]
  },
  {
   "cell_type": "code",
   "execution_count": 30,
   "metadata": {},
   "outputs": [
    {
     "data": {
      "image/png": "[encoded data removed]",
      "text/plain": [
       "<Figure size 640x480 with 1 Axes>"
      ]
     },
     "metadata": {},
     "output_type": "display_data"
    }
   ],
   "source": [
    "plt.plot(range(num_epochs),train_loss_list, label = 'train')\n",
    "plt.plot(range(num_epochs),test_loss_list, label = 'test')\n",
    "plt.legend()\n",
    "plt.show()"
   ]
  },
  {
   "cell_type": "code",
   "execution_count": null,
   "metadata": {},
   "outputs": [],
   "source": []
  }
 ],
 "metadata": {
  "kernelspec": {
   "display_name": "Python 3",
   "language": "python",
   "name": "python3"
  },
  "language_info": {
   "codemirror_mode": {
    "name": "ipython",
    "version": 3
   },
   "file_extension": ".py",
   "mimetype": "text/x-python",
   "name": "python",
   "nbconvert_exporter": "python",
   "pygments_lexer": "ipython3",
   "version": "3.10.6"
  }
 },
 "nbformat": 4,
 "nbformat_minor": 4
}
