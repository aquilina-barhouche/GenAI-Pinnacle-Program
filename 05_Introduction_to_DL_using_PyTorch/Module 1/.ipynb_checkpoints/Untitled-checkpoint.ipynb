{
 "cells": [
  {
   "cell_type": "code",
   "execution_count": 1,
   "id": "fb2a331e",
   "metadata": {
    "ExecuteTime": {
     "end_time": "2025-09-09T12:37:49.157221Z",
     "start_time": "2025-09-09T12:37:40.670007Z"
    }
   },
   "outputs": [],
   "source": [
    "import torch\n",
    "import torch.nn as nn"
   ]
  },
  {
   "cell_type": "code",
   "execution_count": 3,
   "id": "619c883a",
   "metadata": {
    "ExecuteTime": {
     "end_time": "2025-09-09T12:38:26.195940Z",
     "start_time": "2025-09-09T12:38:26.177498Z"
    }
   },
   "outputs": [],
   "source": [
    "inputs = torch.tensor([3.0, 2.0, -1.0])"
   ]
  },
  {
   "cell_type": "code",
   "execution_count": 4,
   "id": "2c7f0fb9",
   "metadata": {
    "ExecuteTime": {
     "end_time": "2025-09-09T12:40:50.890163Z",
     "start_time": "2025-09-09T12:40:50.824737Z"
    }
   },
   "outputs": [],
   "source": [
    "neuron = nn.Linear(in_features=3, out_features=1)\n",
    "output = neuron(inputs)"
   ]
  },
  {
   "cell_type": "code",
   "execution_count": 5,
   "id": "828bdbc3",
   "metadata": {
    "ExecuteTime": {
     "end_time": "2025-09-09T12:40:59.737702Z",
     "start_time": "2025-09-09T12:40:59.657405Z"
    }
   },
   "outputs": [
    {
     "name": "stdout",
     "output_type": "stream",
     "text": [
      "tensor([-0.1103], grad_fn=<ViewBackward0>)\n"
     ]
    }
   ],
   "source": [
    "print(output)"
   ]
  },
  {
   "cell_type": "code",
   "execution_count": null,
   "id": "e1a1d94f",
   "metadata": {},
   "outputs": [],
   "source": []
  }
 ],
 "metadata": {
  "kernelspec": {
   "display_name": "Python 3 (ipykernel)",
   "language": "python",
   "name": "python3"
  },
  "language_info": {
   "codemirror_mode": {
    "name": "ipython",
    "version": 3
   },
   "file_extension": ".py",
   "mimetype": "text/x-python",
   "name": "python",
   "nbconvert_exporter": "python",
   "pygments_lexer": "ipython3",
   "version": "3.10.6"
  },
  "toc": {
   "base_numbering": 1,
   "nav_menu": {},
   "number_sections": true,
   "sideBar": true,
   "skip_h1_title": false,
   "title_cell": "Table of Contents",
   "title_sidebar": "Contents",
   "toc_cell": false,
   "toc_position": {},
   "toc_section_display": true,
   "toc_window_display": false
  }
 },
 "nbformat": 4,
 "nbformat_minor": 5
}
