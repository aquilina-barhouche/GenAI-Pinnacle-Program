{
 "cells": [
  {
   "cell_type": "markdown",
   "metadata": {},
   "source": [
    "# Video 2 : Creating a Basic Review Classification Model"
   ]
  },
  {
   "cell_type": "markdown",
   "metadata": {},
   "source": [
    "- The MultinomialNB classifier is suitable for classifying text data where features represent counts of words or other discrete elements. \n",
    "- Where as Bernoulli naive bayes is used when you only when the features represent the presence or absence of the words as in case of one hot encoding."
   ]
  },
  {
   "cell_type": "code",
   "execution_count": 1,
   "metadata": {},
   "outputs": [],
   "source": [
    "import nltk\n",
    "import pandas as pd\n",
    "import numpy as np\n",
    "import spacy\n",
    "from nltk.corpus import stopwords\n",
    "from nltk.stem import WordNetLemmatizer\n",
    "from sklearn.model_selection import train_test_split, cross_validate, StratifiedKFold\n",
    "from sklearn.pipeline import Pipeline\n",
    "from sklearn.feature_extraction.text import CountVectorizer, TfidfVectorizer\n",
    "from sklearn.naive_bayes import MultinomialNB, BernoulliNB\n",
    "from sklearn.metrics import accuracy_score, classification_report"
   ]
  },
  {
   "cell_type": "code",
   "execution_count": 2,
   "metadata": {
    "scrolled": true
   },
   "outputs": [
    {
     "name": "stderr",
     "output_type": "stream",
     "text": [
      "[nltk_data] Downloading package punkt to\n",
      "[nltk_data]     C:\\Users\\abarhouche\\AppData\\Roaming\\nltk_data...\n",
      "[nltk_data]   Package punkt is already up-to-date!\n",
      "[nltk_data] Downloading package punkt_tab to\n",
      "[nltk_data]     C:\\Users\\abarhouche\\AppData\\Roaming\\nltk_data...\n",
      "[nltk_data]   Package punkt_tab is already up-to-date!\n",
      "[nltk_data] Downloading package stopwords to\n",
      "[nltk_data]     C:\\Users\\abarhouche\\AppData\\Roaming\\nltk_data...\n",
      "[nltk_data]   Package stopwords is already up-to-date!\n"
     ]
    },
    {
     "data": {
      "text/plain": [
       "True"
      ]
     },
     "execution_count": 2,
     "metadata": {},
     "output_type": "execute_result"
    }
   ],
   "source": [
    "# Download NLTK resources\n",
    "nltk.download('punkt')\n",
    "nltk.download('punkt_tab')\n",
    "nltk.download('stopwords')"
   ]
  },
  {
   "cell_type": "code",
   "execution_count": 3,
   "metadata": {},
   "outputs": [],
   "source": [
    "# read the dataset\n",
    "# the data was already split into train, validation, and test and randomized so no need to do it again\n",
    "train = pd.read_csv('../Data/train.csv')\n",
    "validation = pd.read_csv('../Data/validation.csv')\n",
    "test = pd.read_csv('../Data/test.csv')"
   ]
  },
  {
   "cell_type": "code",
   "execution_count": 4,
   "metadata": {},
   "outputs": [
    {
     "data": {
      "text/plain": [
       "((17877, 5), (3831, 5), (3831, 5))"
      ]
     },
     "execution_count": 4,
     "metadata": {},
     "output_type": "execute_result"
    }
   ],
   "source": [
    "train.shape, validation.shape, test.shape"
   ]
  },
  {
   "cell_type": "code",
   "execution_count": 5,
   "metadata": {},
   "outputs": [
    {
     "data": {
      "text/html": [
       "<div>\n",
       "<style scoped>\n",
       "    .dataframe tbody tr th:only-of-type {\n",
       "        vertical-align: middle;\n",
       "    }\n",
       "\n",
       "    .dataframe tbody tr th {\n",
       "        vertical-align: top;\n",
       "    }\n",
       "\n",
       "    .dataframe thead th {\n",
       "        text-align: right;\n",
       "    }\n",
       "</style>\n",
       "<table border=\"1\" class=\"dataframe\">\n",
       "  <thead>\n",
       "    <tr style=\"text-align: right;\">\n",
       "      <th></th>\n",
       "      <th>review_id</th>\n",
       "      <th>title</th>\n",
       "      <th>year</th>\n",
       "      <th>user_review</th>\n",
       "      <th>user_suggestion</th>\n",
       "    </tr>\n",
       "  </thead>\n",
       "  <tbody>\n",
       "    <tr>\n",
       "      <th>0</th>\n",
       "      <td>460</td>\n",
       "      <td>Black Squad</td>\n",
       "      <td>2018.0</td>\n",
       "      <td>Early Access ReviewVery great shooter, that ha...</td>\n",
       "      <td>1</td>\n",
       "    </tr>\n",
       "    <tr>\n",
       "      <th>1</th>\n",
       "      <td>2166</td>\n",
       "      <td>Tree of Savior (English Ver.)</td>\n",
       "      <td>2016.0</td>\n",
       "      <td>I love love love playing this game!Super 100%!...</td>\n",
       "      <td>1</td>\n",
       "    </tr>\n",
       "    <tr>\n",
       "      <th>2</th>\n",
       "      <td>17242</td>\n",
       "      <td>Eternal Card Game</td>\n",
       "      <td>2016.0</td>\n",
       "      <td>Early Access ReviewAs a fan of MTG and Hearths...</td>\n",
       "      <td>1</td>\n",
       "    </tr>\n",
       "    <tr>\n",
       "      <th>3</th>\n",
       "      <td>6959</td>\n",
       "      <td>Tactical Monsters Rumble Arena</td>\n",
       "      <td>2018.0</td>\n",
       "      <td>Turn based strategy game similiar to FF Tactic...</td>\n",
       "      <td>1</td>\n",
       "    </tr>\n",
       "    <tr>\n",
       "      <th>4</th>\n",
       "      <td>8807</td>\n",
       "      <td>Yu-Gi-Oh! Duel Links</td>\n",
       "      <td>2017.0</td>\n",
       "      <td>This game has an insanely huge download for be...</td>\n",
       "      <td>0</td>\n",
       "    </tr>\n",
       "  </tbody>\n",
       "</table>\n",
       "</div>"
      ],
      "text/plain": [
       "   review_id                           title    year  \\\n",
       "0        460                     Black Squad  2018.0   \n",
       "1       2166   Tree of Savior (English Ver.)  2016.0   \n",
       "2      17242               Eternal Card Game  2016.0   \n",
       "3       6959  Tactical Monsters Rumble Arena  2018.0   \n",
       "4       8807            Yu-Gi-Oh! Duel Links  2017.0   \n",
       "\n",
       "                                         user_review  user_suggestion  \n",
       "0  Early Access ReviewVery great shooter, that ha...                1  \n",
       "1  I love love love playing this game!Super 100%!...                1  \n",
       "2  Early Access ReviewAs a fan of MTG and Hearths...                1  \n",
       "3  Turn based strategy game similiar to FF Tactic...                1  \n",
       "4  This game has an insanely huge download for be...                0  "
      ]
     },
     "execution_count": 5,
     "metadata": {},
     "output_type": "execute_result"
    }
   ],
   "source": [
    "# view the train data\n",
    "train.head()"
   ]
  },
  {
   "cell_type": "code",
   "execution_count": 6,
   "metadata": {
    "scrolled": true
   },
   "outputs": [
    {
     "data": {
      "text/html": [
       "<div>\n",
       "<style scoped>\n",
       "    .dataframe tbody tr th:only-of-type {\n",
       "        vertical-align: middle;\n",
       "    }\n",
       "\n",
       "    .dataframe tbody tr th {\n",
       "        vertical-align: top;\n",
       "    }\n",
       "\n",
       "    .dataframe thead th {\n",
       "        text-align: right;\n",
       "    }\n",
       "</style>\n",
       "<table border=\"1\" class=\"dataframe\">\n",
       "  <thead>\n",
       "    <tr style=\"text-align: right;\">\n",
       "      <th></th>\n",
       "      <th>review_id</th>\n",
       "      <th>title</th>\n",
       "      <th>year</th>\n",
       "      <th>user_review</th>\n",
       "      <th>user_suggestion</th>\n",
       "    </tr>\n",
       "  </thead>\n",
       "  <tbody>\n",
       "    <tr>\n",
       "      <th>0</th>\n",
       "      <td>12053</td>\n",
       "      <td>Infestation: The New Z</td>\n",
       "      <td>2016.0</td>\n",
       "      <td>Unbelievable that this rehash copy and paste t...</td>\n",
       "      <td>0</td>\n",
       "    </tr>\n",
       "    <tr>\n",
       "      <th>1</th>\n",
       "      <td>12536</td>\n",
       "      <td>SMITE®</td>\n",
       "      <td>2015.0</td>\n",
       "      <td>I can't recommened this game in its current st...</td>\n",
       "      <td>0</td>\n",
       "    </tr>\n",
       "    <tr>\n",
       "      <th>2</th>\n",
       "      <td>747</td>\n",
       "      <td>Heroes &amp; Generals</td>\n",
       "      <td>2016.0</td>\n",
       "      <td>Early Access ReviewThis game is constantly evo...</td>\n",
       "      <td>0</td>\n",
       "    </tr>\n",
       "    <tr>\n",
       "      <th>3</th>\n",
       "      <td>3214</td>\n",
       "      <td>World of Warships</td>\n",
       "      <td>2018.0</td>\n",
       "      <td>I play this game because it scratches an itch....</td>\n",
       "      <td>0</td>\n",
       "    </tr>\n",
       "    <tr>\n",
       "      <th>4</th>\n",
       "      <td>4036</td>\n",
       "      <td>World of Guns: Gun Disassembly</td>\n",
       "      <td>2016.0</td>\n",
       "      <td>Finally, a game for people like us to enjoy! P...</td>\n",
       "      <td>1</td>\n",
       "    </tr>\n",
       "  </tbody>\n",
       "</table>\n",
       "</div>"
      ],
      "text/plain": [
       "   review_id                           title    year  \\\n",
       "0      12053          Infestation: The New Z  2016.0   \n",
       "1      12536                          SMITE®  2015.0   \n",
       "2        747               Heroes & Generals  2016.0   \n",
       "3       3214               World of Warships  2018.0   \n",
       "4       4036  World of Guns: Gun Disassembly  2016.0   \n",
       "\n",
       "                                         user_review  user_suggestion  \n",
       "0  Unbelievable that this rehash copy and paste t...                0  \n",
       "1  I can't recommened this game in its current st...                0  \n",
       "2  Early Access ReviewThis game is constantly evo...                0  \n",
       "3  I play this game because it scratches an itch....                0  \n",
       "4  Finally, a game for people like us to enjoy! P...                1  "
      ]
     },
     "execution_count": 6,
     "metadata": {},
     "output_type": "execute_result"
    }
   ],
   "source": [
    "# view the test data\n",
    "test.head()"
   ]
  },
  {
   "cell_type": "code",
   "execution_count": 7,
   "metadata": {},
   "outputs": [
    {
     "data": {
      "text/html": [
       "<div>\n",
       "<style scoped>\n",
       "    .dataframe tbody tr th:only-of-type {\n",
       "        vertical-align: middle;\n",
       "    }\n",
       "\n",
       "    .dataframe tbody tr th {\n",
       "        vertical-align: top;\n",
       "    }\n",
       "\n",
       "    .dataframe thead th {\n",
       "        text-align: right;\n",
       "    }\n",
       "</style>\n",
       "<table border=\"1\" class=\"dataframe\">\n",
       "  <thead>\n",
       "    <tr style=\"text-align: right;\">\n",
       "      <th></th>\n",
       "      <th>review_id</th>\n",
       "      <th>title</th>\n",
       "      <th>year</th>\n",
       "      <th>user_review</th>\n",
       "      <th>user_suggestion</th>\n",
       "    </tr>\n",
       "  </thead>\n",
       "  <tbody>\n",
       "    <tr>\n",
       "      <th>0</th>\n",
       "      <td>8604</td>\n",
       "      <td>Dungeon Defenders II</td>\n",
       "      <td>2015.0</td>\n",
       "      <td>Early Access Review* Ok Played the first DD lo...</td>\n",
       "      <td>1</td>\n",
       "    </tr>\n",
       "    <tr>\n",
       "      <th>1</th>\n",
       "      <td>20407</td>\n",
       "      <td>Minion Masters</td>\n",
       "      <td>2017.0</td>\n",
       "      <td>Product received for freeEarly Access ReviewSo...</td>\n",
       "      <td>1</td>\n",
       "    </tr>\n",
       "    <tr>\n",
       "      <th>2</th>\n",
       "      <td>636</td>\n",
       "      <td>Magic Duels</td>\n",
       "      <td>2018.0</td>\n",
       "      <td>Game is extremely unfun to play unless you wan...</td>\n",
       "      <td>0</td>\n",
       "    </tr>\n",
       "    <tr>\n",
       "      <th>3</th>\n",
       "      <td>10217</td>\n",
       "      <td>Robocraft</td>\n",
       "      <td>2016.0</td>\n",
       "      <td>Early Access ReviewThis used to be an amazing ...</td>\n",
       "      <td>0</td>\n",
       "    </tr>\n",
       "    <tr>\n",
       "      <th>4</th>\n",
       "      <td>9564</td>\n",
       "      <td>Realm of the Mad God</td>\n",
       "      <td>2014.0</td>\n",
       "      <td>With stunning visuals, an immersive storyline,...</td>\n",
       "      <td>1</td>\n",
       "    </tr>\n",
       "  </tbody>\n",
       "</table>\n",
       "</div>"
      ],
      "text/plain": [
       "   review_id                 title    year  \\\n",
       "0       8604  Dungeon Defenders II  2015.0   \n",
       "1      20407        Minion Masters  2017.0   \n",
       "2        636           Magic Duels  2018.0   \n",
       "3      10217             Robocraft  2016.0   \n",
       "4       9564  Realm of the Mad God  2014.0   \n",
       "\n",
       "                                         user_review  user_suggestion  \n",
       "0  Early Access Review* Ok Played the first DD lo...                1  \n",
       "1  Product received for freeEarly Access ReviewSo...                1  \n",
       "2  Game is extremely unfun to play unless you wan...                0  \n",
       "3  Early Access ReviewThis used to be an amazing ...                0  \n",
       "4  With stunning visuals, an immersive storyline,...                1  "
      ]
     },
     "execution_count": 7,
     "metadata": {},
     "output_type": "execute_result"
    }
   ],
   "source": [
    "# view the valodation data\n",
    "validation.head()"
   ]
  },
  {
   "cell_type": "code",
   "execution_count": 8,
   "metadata": {},
   "outputs": [
    {
     "data": {
      "text/plain": [
       "user_suggestion\n",
       "1    2187\n",
       "0    1644\n",
       "Name: count, dtype: int64"
      ]
     },
     "execution_count": 8,
     "metadata": {},
     "output_type": "execute_result"
    }
   ],
   "source": [
    "test['user_suggestion'].value_counts()"
   ]
  },
  {
   "cell_type": "code",
   "execution_count": 9,
   "metadata": {},
   "outputs": [],
   "source": [
    "# Load the SpaCy English model\n",
    "# Since we are not using NER, we can disable it to speedup\n",
    "nlp = spacy.load(\"en_core_web_sm\", disable='ner')"
   ]
  },
  {
   "cell_type": "markdown",
   "metadata": {},
   "source": [
    "### Preprocessing Function"
   ]
  },
  {
   "cell_type": "code",
   "execution_count": 10,
   "metadata": {},
   "outputs": [],
   "source": [
    "def preprocess_text(texts):\n",
    "    # lemmatize the tokens and store them in a list\n",
    "    processed_texts = []\n",
    "    for doc in nlp.pipe(texts, n_process=-1):\n",
    "        lemmatized_tokens = [token.lemma_.lower() for token in doc if token.is_alpha and token.lemma_ not in nlp.Defaults.stop_words]\n",
    "        \n",
    "        # Join the lemmatized tokens into a string\n",
    "        processed_text = \" \".join(lemmatized_tokens)\n",
    "        \n",
    "        processed_texts.append(processed_text)\n",
    "        \n",
    "    return processed_texts"
   ]
  },
  {
   "cell_type": "markdown",
   "metadata": {},
   "source": [
    "### Explanation\n",
    "This function preprocesses a list of texts using spaCy. Here's a breakdown:\n",
    "\n",
    "1. Initialization: It creates an empty list processed_texts to store the processed versions of the input texts.\n",
    "2. Looping: It iterates through the input texts using spaCy's nlp.pipe method with n_process=-1 for multi-core processing (if available).\n",
    "3. Lemmatization and Stopword Removal: For each text (as a spaCy doc object):\n",
    "    - It extracts the tokens (words).\n",
    "    - It lemmatizes each token, converting words to their base form (\"running\" becomes \"run\").\n",
    "    - It converts all tokens to lowercase.\n",
    "    - The is_alpha attribute makes sure that only alpha numeric tokens are considered.\n",
    "    - It removes stop words like \"the\" and \"a\" (using nlp.Defaults.stop_words).\n",
    "4. Text Joining: It joins the remaining lemmatized tokens back into a single string.\n",
    "5. Storage: It appends the processed text to the processed_texts list.\n",
    "6. Return: Finally, the function returns the list of preprocessed texts."
   ]
  },
  {
   "cell_type": "code",
   "execution_count": 11,
   "metadata": {},
   "outputs": [],
   "source": [
    "# apply preprotcess_text function to user_review column\n",
    "train['user_review'] = preprocess_text(train['user_review'])\n",
    "validation['user_review'] = preprocess_text(validation['user_review'])\n",
    "test['user_review'] = preprocess_text(test['user_review'])"
   ]
  },
  {
   "cell_type": "code",
   "execution_count": 12,
   "metadata": {},
   "outputs": [
    {
     "data": {
      "text/plain": [
       "0    early access reviewvery great shooter original...\n",
       "1    i love love love play lot class choose bound s...\n",
       "2    early access reviewas fan mtg hearthstone fun ...\n",
       "3    turn base strategy game similiar ff tactic day...\n",
       "4    game insanely huge download phone game blast v...\n",
       "Name: user_review, dtype: object"
      ]
     },
     "execution_count": 12,
     "metadata": {},
     "output_type": "execute_result"
    }
   ],
   "source": [
    "#view the first 5 rows\n",
    "train['user_review'].head()"
   ]
  },
  {
   "cell_type": "markdown",
   "metadata": {},
   "source": [
    "### Vectorization"
   ]
  },
  {
   "cell_type": "markdown",
   "metadata": {},
   "source": [
    "#### OHE"
   ]
  },
  {
   "cell_type": "markdown",
   "metadata": {},
   "source": [
    "- In our case we have set min_df = 0.001, that is any word which does not appear in more than 0.1% documents or reviews will not be considered in the internal vocabulary being created by count vectorizer. Feel free to change this value as this is a hyperparameter which requires tuning."
   ]
  },
  {
   "cell_type": "code",
   "execution_count": 13,
   "metadata": {},
   "outputs": [],
   "source": [
    "count_vectorizer_ohe = CountVectorizer(min_df=0.001, binary=True)"
   ]
  },
  {
   "cell_type": "code",
   "execution_count": 14,
   "metadata": {},
   "outputs": [],
   "source": [
    "#fit_transform user_review\n",
    "count_vectorizer_ohe_train = count_vectorizer_ohe.fit_transform(train['user_review'])"
   ]
  },
  {
   "cell_type": "markdown",
   "metadata": {},
   "source": [
    "#### Building a Naive Bayes Model"
   ]
  },
  {
   "cell_type": "code",
   "execution_count": 15,
   "metadata": {},
   "outputs": [],
   "source": [
    "# Naive Bayes Classifier\n",
    "naive_bayes_classifier = BernoulliNB()"
   ]
  },
  {
   "cell_type": "code",
   "execution_count": 16,
   "metadata": {},
   "outputs": [
    {
     "data": {
      "text/plain": [
       "0.825585948425351"
      ]
     },
     "execution_count": 16,
     "metadata": {},
     "output_type": "execute_result"
    }
   ],
   "source": [
    "#create the naive bayes model for the train data\n",
    "naive_bayes_classifier.fit(count_vectorizer_ohe_train, train['user_suggestion'])\n",
    "naive_bayes_classifier.score(count_vectorizer_ohe_train, train['user_suggestion'])"
   ]
  },
  {
   "cell_type": "code",
   "execution_count": 17,
   "metadata": {},
   "outputs": [
    {
     "data": {
      "text/plain": [
       "0.8120595144870791"
      ]
     },
     "execution_count": 17,
     "metadata": {},
     "output_type": "execute_result"
    }
   ],
   "source": [
    "##create the naive bayes model for the validation data\n",
    "count_vectorizer_ohe_val = count_vectorizer_ohe.transform(validation['user_review'])\n",
    "naive_bayes_classifier.score(count_vectorizer_ohe_val, validation['user_suggestion'])"
   ]
  },
  {
   "cell_type": "markdown",
   "metadata": {},
   "source": [
    "#### Count Vectorizer"
   ]
  },
  {
   "cell_type": "code",
   "execution_count": 18,
   "metadata": {},
   "outputs": [],
   "source": [
    "# initialize count_vectorizer and name it count_vectorizer\n",
    "count_vectorizer = CountVectorizer(min_df=0.001)"
   ]
  },
  {
   "cell_type": "code",
   "execution_count": 19,
   "metadata": {},
   "outputs": [],
   "source": [
    "#fit_transform user_review\n",
    "count_vectorizer_train = count_vectorizer.fit_transform(train['user_review'])"
   ]
  },
  {
   "cell_type": "markdown",
   "metadata": {},
   "source": [
    "#### Building a Naive Bayes Model using count vectorization"
   ]
  },
  {
   "cell_type": "code",
   "execution_count": 20,
   "metadata": {},
   "outputs": [],
   "source": [
    "# Naive Bayes Classifier\n",
    "naive_bayes_classifier = MultinomialNB()"
   ]
  },
  {
   "cell_type": "code",
   "execution_count": 21,
   "metadata": {},
   "outputs": [
    {
     "data": {
      "text/plain": [
       "0.8388991441517033"
      ]
     },
     "execution_count": 21,
     "metadata": {},
     "output_type": "execute_result"
    }
   ],
   "source": [
    "#create the naive bayes model for the train data\n",
    "naive_bayes_classifier.fit(count_vectorizer_train, train['user_suggestion'])\n",
    "naive_bayes_classifier.score(count_vectorizer_train, train['user_suggestion'])"
   ]
  },
  {
   "cell_type": "code",
   "execution_count": 22,
   "metadata": {},
   "outputs": [
    {
     "data": {
      "text/plain": [
       "0.8258940224484469"
      ]
     },
     "execution_count": 22,
     "metadata": {},
     "output_type": "execute_result"
    }
   ],
   "source": [
    "##create the naive bayes model for the validation data\n",
    "count_vectorizer_val = count_vectorizer.transform(validation['user_review'])\n",
    "naive_bayes_classifier.score(count_vectorizer_val, validation['user_suggestion'])"
   ]
  },
  {
   "cell_type": "markdown",
   "metadata": {},
   "source": [
    "#### OHE vs Count Vectorization"
   ]
  },
  {
   "cell_type": "markdown",
   "metadata": {},
   "source": [
    "Before we proceed, please note, by no means are we stating that count vectorizer is superior to one hot encoding. \n",
    "- The choice depends on whether understanding the relationship and frequency of words in the text is important.\n",
    "\n",
    "- One-hot encoding typically requires less memory and computational power where as algorithms that leverage word frequency for predictive accuracy (e.g., Multinomial Naive Bayes generally perform better with Count Vectorizer)."
   ]
  },
  {
   "cell_type": "markdown",
   "metadata": {},
   "source": [
    "# Video 3 : Understanding TF-IDF and its Implementation"
   ]
  },
  {
   "cell_type": "code",
   "execution_count": null,
   "metadata": {},
   "outputs": [],
   "source": []
  },
  {
   "cell_type": "code",
   "execution_count": 23,
   "metadata": {},
   "outputs": [],
   "source": [
    "# import TfidfVectorizer\n",
    "from sklearn.feature_extraction.text import TfidfVectorizer"
   ]
  },
  {
   "cell_type": "code",
   "execution_count": 24,
   "metadata": {},
   "outputs": [],
   "source": [
    "# initialize tfifd vectorizer\n",
    "tfidf_vectorizer = TfidfVectorizer(min_df=0.001)"
   ]
  },
  {
   "cell_type": "code",
   "execution_count": 25,
   "metadata": {},
   "outputs": [
    {
     "data": {
      "text/plain": [
       "0.8411366560384852"
      ]
     },
     "execution_count": 25,
     "metadata": {},
     "output_type": "execute_result"
    }
   ],
   "source": [
    "#create the naive bayes model for the train data using tfidf\n",
    "tfidf_vectorizer_train = tfidf_vectorizer.fit_transform(train['user_review'])\n",
    "naive_bayes_classifier.fit(tfidf_vectorizer_train, train['user_suggestion'])\n",
    "naive_bayes_classifier.score(tfidf_vectorizer_train, train['user_suggestion'])"
   ]
  },
  {
   "cell_type": "code",
   "execution_count": 26,
   "metadata": {},
   "outputs": [
    {
     "data": {
      "text/plain": [
       "0.8201513965022187"
      ]
     },
     "execution_count": 26,
     "metadata": {},
     "output_type": "execute_result"
    }
   ],
   "source": [
    "#create the naive bayes model for the validation data using tfidf\n",
    "tfidf_vectorizer_val = tfidf_vectorizer.transform(validation['user_review'])\n",
    "naive_bayes_classifier.score(tfidf_vectorizer_val, validation['user_suggestion'])"
   ]
  },
  {
   "cell_type": "markdown",
   "metadata": {},
   "source": [
    "For example, in our sentence - \"Life is very beatiful\", the way the model interprets \"beatiful\" as an individual token and \"very beautiful\" as an indvidual token may impact the performance of the model."
   ]
  },
  {
   "cell_type": "markdown",
   "metadata": {},
   "source": [
    "# Video 4 - Using n-grams with TfIdf"
   ]
  },
  {
   "cell_type": "code",
   "execution_count": 27,
   "metadata": {},
   "outputs": [],
   "source": [
    "tfidf_ngram_vectorizer = TfidfVectorizer(min_df=0.001, ngram_range=(1, 3))"
   ]
  },
  {
   "cell_type": "markdown",
   "metadata": {},
   "source": [
    "#### Building Naive Bayes Model"
   ]
  },
  {
   "cell_type": "code",
   "execution_count": 28,
   "metadata": {},
   "outputs": [
    {
     "data": {
      "text/plain": [
       "0.859204564524249"
      ]
     },
     "execution_count": 28,
     "metadata": {},
     "output_type": "execute_result"
    }
   ],
   "source": [
    "#create the naive bayes model for the train data using tfidf and ngram\n",
    "tfidf_ngram_vectorizer_train = tfidf_ngram_vectorizer.fit_transform(train['user_review'])\n",
    "naive_bayes_classifier.fit(tfidf_ngram_vectorizer_train, train['user_suggestion'])\n",
    "naive_bayes_classifier.score(tfidf_ngram_vectorizer_train, train['user_suggestion'])"
   ]
  },
  {
   "cell_type": "code",
   "execution_count": 29,
   "metadata": {
    "scrolled": false
   },
   "outputs": [
    {
     "data": {
      "text/plain": [
       "array(['actually good', 'actually like', 'actually look', 'actually play',\n",
       "       'actually play game', 'actually pretty', 'actually use',\n",
       "       'actually want', 'actually work', 'actualy'], dtype=object)"
      ]
     },
     "execution_count": 29,
     "metadata": {},
     "output_type": "execute_result"
    }
   ],
   "source": [
    "tfidf_ngram_vectorizer.get_feature_names_out()[150:160]"
   ]
  },
  {
   "cell_type": "code",
   "execution_count": 30,
   "metadata": {},
   "outputs": [
    {
     "data": {
      "text/plain": [
       "0.8292873923257635"
      ]
     },
     "execution_count": 30,
     "metadata": {},
     "output_type": "execute_result"
    }
   ],
   "source": [
    "#create the naive bayes model for the validation data using tfidf and ngram\n",
    "tfidf_ngram_vectorizer_val = tfidf_ngram_vectorizer.transform(validation['user_review'])\n",
    "naive_bayes_classifier.score(tfidf_ngram_vectorizer_val, validation['user_suggestion'])"
   ]
  },
  {
   "cell_type": "code",
   "execution_count": 31,
   "metadata": {},
   "outputs": [],
   "source": [
    "count_ngram_vectorizer = CountVectorizer(min_df=0.001, ngram_range=(1, 3))"
   ]
  },
  {
   "cell_type": "code",
   "execution_count": 32,
   "metadata": {},
   "outputs": [
    {
     "data": {
      "text/plain": [
       "0.8488560720478827"
      ]
     },
     "execution_count": 32,
     "metadata": {},
     "output_type": "execute_result"
    }
   ],
   "source": [
    "#create the naive bayes model for the train data using count vectorizer and ngram\n",
    "count_ngram_vectorizer_train = count_ngram_vectorizer.fit_transform(train['user_review'])\n",
    "naive_bayes_classifier.fit(count_ngram_vectorizer_train, train['user_suggestion'])\n",
    "naive_bayes_classifier.score(count_ngram_vectorizer_train, train['user_suggestion'])"
   ]
  },
  {
   "cell_type": "code",
   "execution_count": 33,
   "metadata": {},
   "outputs": [
    {
     "data": {
      "text/plain": [
       "0.8256329939963456"
      ]
     },
     "execution_count": 33,
     "metadata": {},
     "output_type": "execute_result"
    }
   ],
   "source": [
    "#create the naive bayes model for the validation data using count vectorizer and ngram\n",
    "count_ngram_vectorizer_val = count_ngram_vectorizer.transform(validation['user_review'])\n",
    "naive_bayes_classifier.score(count_ngram_vectorizer_val, validation['user_suggestion'])"
   ]
  },
  {
   "cell_type": "markdown",
   "metadata": {},
   "source": [
    "Again, a superior score does not mean count vectorizer is inferior to TFIDF. The choice between TF-IDF and count vectorizer hinges on:\n",
    "\n",
    "- Document Uniqueness: TF-IDF emphasizes words that are unique to specific documents, making it ideal for tasks where document differentiation is key.\n",
    "- Corpus Size and Diversity: TF-IDF performs better with large and diverse datasets by downplaying common words across documents.\n",
    "- Relevance of Common Words: If frequent common words are informative for the analysis, count vectorizer might be more appropriate."
   ]
  },
  {
   "cell_type": "markdown",
   "metadata": {},
   "source": [
    "# Video 5: POS Tagging and NER"
   ]
  },
  {
   "cell_type": "code",
   "execution_count": 34,
   "metadata": {},
   "outputs": [],
   "source": [
    "# Load spaCy model\n",
    "nlp = spacy.load(\"en_core_web_sm\")"
   ]
  },
  {
   "cell_type": "code",
   "execution_count": 35,
   "metadata": {},
   "outputs": [],
   "source": [
    "def preprocess_text_spacy(processed_texts):\n",
    "    # Tokenization and POS tagging\n",
    "    pos_texts = []\n",
    "    for doc in nlp.pipe(processed_texts):\n",
    "        pos_tags = [token.pos_ for token in doc]\n",
    "        pos_text = \" \".join(pos_tags)\n",
    "        pos_texts.append(pos_text)\n",
    "\n",
    "    # Named Entity Recognition (NER)\n",
    "    ner_texts = []\n",
    "    for doc in nlp.pipe(processed_texts):     \n",
    "        ner_tags = [token.ent_type_ if token.ent_type_ else \"O\" for token in doc]\n",
    "        ner_text = \" \".join(ner_tags)\n",
    "        ner_texts.append(ner_text)\n",
    "    \n",
    "    return [pos_texts, ner_texts]"
   ]
  },
  {
   "cell_type": "markdown",
   "metadata": {},
   "source": [
    "#### Explanation-\n",
    "Here's a breakdown of the code's functionality:\n",
    "\n",
    "1. Tokenization and POS Tagging:\n",
    "\n",
    "    - It creates an empty list pos_texts to store the part-of-speech (POS) tags.\n",
    "    - It iterates over the processed_texts using nlp.pipe, which processes each text efficiently.\n",
    "    - For each text, it extracts the POS tag for each token using token.pos_.\n",
    "    - It joins the POS tags into a string and appends this string to the pos_texts list.\n",
    "\n",
    "2. Named Entity Recognition (NER):\n",
    "\n",
    "    - It creates an empty list ner_texts to store named entity tags.\n",
    "    - A second iteration over the processed_texts using nlp.pipe processes each text again.\n",
    "    - For each text, it extracts the entity type for each token using token.ent_type_.\n",
    "    - If a token does not have an entity type, it assigns \"O\" (outside of any entity).\n",
    "    - It joins the NER tags into a string and appends this string to the ner_texts list.\n",
    "\n",
    "3. Returning Results:\n",
    "\n",
    "    - The function returns a list containing two lists: pos_texts and ner_texts. These lists correspond to the POS           tags and NER tags for each text, respectively."
   ]
  },
  {
   "cell_type": "code",
   "execution_count": 36,
   "metadata": {},
   "outputs": [],
   "source": [
    "#applying preprocess_text_spacy function to user_review column for train data\n",
    "pos_texts, ner_texts = preprocess_text_spacy(train['user_review'])"
   ]
  },
  {
   "cell_type": "code",
   "execution_count": 37,
   "metadata": {},
   "outputs": [],
   "source": [
    "# adding the lists as column to the dataset\n",
    "train['pos_tags'] = pos_texts\n",
    "train['ner_tags'] = ner_texts"
   ]
  },
  {
   "cell_type": "code",
   "execution_count": 38,
   "metadata": {},
   "outputs": [
    {
     "data": {
      "text/html": [
       "<div>\n",
       "<style scoped>\n",
       "    .dataframe tbody tr th:only-of-type {\n",
       "        vertical-align: middle;\n",
       "    }\n",
       "\n",
       "    .dataframe tbody tr th {\n",
       "        vertical-align: top;\n",
       "    }\n",
       "\n",
       "    .dataframe thead th {\n",
       "        text-align: right;\n",
       "    }\n",
       "</style>\n",
       "<table border=\"1\" class=\"dataframe\">\n",
       "  <thead>\n",
       "    <tr style=\"text-align: right;\">\n",
       "      <th></th>\n",
       "      <th>review_id</th>\n",
       "      <th>title</th>\n",
       "      <th>year</th>\n",
       "      <th>user_review</th>\n",
       "      <th>user_suggestion</th>\n",
       "      <th>pos_tags</th>\n",
       "      <th>ner_tags</th>\n",
       "    </tr>\n",
       "  </thead>\n",
       "  <tbody>\n",
       "    <tr>\n",
       "      <th>0</th>\n",
       "      <td>460</td>\n",
       "      <td>Black Squad</td>\n",
       "      <td>2018.0</td>\n",
       "      <td>early access reviewvery great shooter original...</td>\n",
       "      <td>1</td>\n",
       "      <td>ADJ NOUN NOUN ADJ ADJ NOUN NOUN PROPN VERB NOU...</td>\n",
       "      <td>O O O O O O O O O O O O O O O O O O O O O O O ...</td>\n",
       "    </tr>\n",
       "    <tr>\n",
       "      <th>1</th>\n",
       "      <td>2166</td>\n",
       "      <td>Tree of Savior (English Ver.)</td>\n",
       "      <td>2016.0</td>\n",
       "      <td>i love love love play lot class choose bound s...</td>\n",
       "      <td>1</td>\n",
       "      <td>PRON VERB NOUN NOUN NOUN NOUN NOUN VERB VERB A...</td>\n",
       "      <td>O O O O O O O O O O O O O O</td>\n",
       "    </tr>\n",
       "    <tr>\n",
       "      <th>2</th>\n",
       "      <td>17242</td>\n",
       "      <td>Eternal Card Game</td>\n",
       "      <td>2016.0</td>\n",
       "      <td>early access reviewas fan mtg hearthstone fun ...</td>\n",
       "      <td>1</td>\n",
       "      <td>ADJ NOUN VERB PROPN PROPN NOUN NOUN NOUN ADJ N...</td>\n",
       "      <td>O O O O O O O O O O O O O O O O O O O O</td>\n",
       "    </tr>\n",
       "    <tr>\n",
       "      <th>3</th>\n",
       "      <td>6959</td>\n",
       "      <td>Tactical Monsters Rumble Arena</td>\n",
       "      <td>2018.0</td>\n",
       "      <td>turn base strategy game similiar ff tactic day...</td>\n",
       "      <td>1</td>\n",
       "      <td>VERB NOUN NOUN NOUN ADJ ADJ NOUN NOUN VERB ADV...</td>\n",
       "      <td>O O O O O O DATE DATE O O O O O O O O O O O O ...</td>\n",
       "    </tr>\n",
       "    <tr>\n",
       "      <th>4</th>\n",
       "      <td>8807</td>\n",
       "      <td>Yu-Gi-Oh! Duel Links</td>\n",
       "      <td>2017.0</td>\n",
       "      <td>game insanely huge download phone game blast v...</td>\n",
       "      <td>0</td>\n",
       "      <td>NOUN ADV ADJ NOUN NOUN NOUN NOUN NOUN ADJ NOUN...</td>\n",
       "      <td>O O O O O O O O O O O O O O O</td>\n",
       "    </tr>\n",
       "  </tbody>\n",
       "</table>\n",
       "</div>"
      ],
      "text/plain": [
       "   review_id                           title    year  \\\n",
       "0        460                     Black Squad  2018.0   \n",
       "1       2166   Tree of Savior (English Ver.)  2016.0   \n",
       "2      17242               Eternal Card Game  2016.0   \n",
       "3       6959  Tactical Monsters Rumble Arena  2018.0   \n",
       "4       8807            Yu-Gi-Oh! Duel Links  2017.0   \n",
       "\n",
       "                                         user_review  user_suggestion  \\\n",
       "0  early access reviewvery great shooter original...                1   \n",
       "1  i love love love play lot class choose bound s...                1   \n",
       "2  early access reviewas fan mtg hearthstone fun ...                1   \n",
       "3  turn base strategy game similiar ff tactic day...                1   \n",
       "4  game insanely huge download phone game blast v...                0   \n",
       "\n",
       "                                            pos_tags  \\\n",
       "0  ADJ NOUN NOUN ADJ ADJ NOUN NOUN PROPN VERB NOU...   \n",
       "1  PRON VERB NOUN NOUN NOUN NOUN NOUN VERB VERB A...   \n",
       "2  ADJ NOUN VERB PROPN PROPN NOUN NOUN NOUN ADJ N...   \n",
       "3  VERB NOUN NOUN NOUN ADJ ADJ NOUN NOUN VERB ADV...   \n",
       "4  NOUN ADV ADJ NOUN NOUN NOUN NOUN NOUN ADJ NOUN...   \n",
       "\n",
       "                                            ner_tags  \n",
       "0  O O O O O O O O O O O O O O O O O O O O O O O ...  \n",
       "1                        O O O O O O O O O O O O O O  \n",
       "2            O O O O O O O O O O O O O O O O O O O O  \n",
       "3  O O O O O O DATE DATE O O O O O O O O O O O O ...  \n",
       "4                      O O O O O O O O O O O O O O O  "
      ]
     },
     "execution_count": 38,
     "metadata": {},
     "output_type": "execute_result"
    }
   ],
   "source": [
    "train.head()"
   ]
  },
  {
   "cell_type": "code",
   "execution_count": 39,
   "metadata": {},
   "outputs": [
    {
     "data": {
      "text/html": [
       "<span class=\"tex2jax_ignore\"><div class=\"entities\" style=\"line-height: 2.5; direction: ltr\">turn base strategy game similiar ff \n",
       "<mark class=\"entity\" style=\"background: #bfe1d9; padding: 0.45em 0.6em; margin: 0 0.25em; line-height: 1; border-radius: 0.35em;\">\n",
       "    tactic day\n",
       "    <span style=\"font-size: 0.8em; font-weight: bold; line-height: 1; border-radius: 0.35em; vertical-align: middle; margin-left: 0.5rem\">DATE</span>\n",
       "</mark>\n",
       " remember easy enjoyable lot different comp try bored want able play fun game hand occasional glance screen watch movie hentai</div></span>"
      ],
      "text/plain": [
       "<IPython.core.display.HTML object>"
      ]
     },
     "metadata": {},
     "output_type": "display_data"
    }
   ],
   "source": [
    "from spacy import displacy\n",
    "\n",
    "text= train['user_review'][3]\n",
    "text\n",
    "doc = nlp(text)\n",
    "displacy.render(doc, style=\"ent\")"
   ]
  },
  {
   "cell_type": "markdown",
   "metadata": {},
   "source": [
    "__India is a country with leading IT companies such as Infosys, TCS, Wipro etc. Most of them make millions of dollars in revenues and are based out of Hyderabad__"
   ]
  },
  {
   "cell_type": "code",
   "execution_count": 69,
   "metadata": {
    "scrolled": true
   },
   "outputs": [
    {
     "data": {
      "text/html": [
       "<span class=\"tex2jax_ignore\"><div class=\"entities\" style=\"line-height: 2.5; direction: ltr\">\n",
       "<mark class=\"entity\" style=\"background: #7aecec; padding: 0.45em 0.6em; margin: 0 0.25em; line-height: 1; border-radius: 0.35em;\">\n",
       "    SABIS\n",
       "    <span style=\"font-size: 0.8em; font-weight: bold; line-height: 1; border-radius: 0.35em; vertical-align: middle; margin-left: 0.5rem\">ORG</span>\n",
       "</mark>\n",
       " is the best school</div></span>"
      ],
      "text/plain": [
       "<IPython.core.display.HTML object>"
      ]
     },
     "metadata": {},
     "output_type": "display_data"
    }
   ],
   "source": [
    "text1= \"SABIS is the best school\"\n",
    "text1\n",
    "doc = nlp(text1)\n",
    "displacy.render(doc, style=\"ent\")"
   ]
  },
  {
   "cell_type": "code",
   "execution_count": 41,
   "metadata": {},
   "outputs": [],
   "source": [
    "del train['pos_tags']\n",
    "del train['ner_tags']"
   ]
  },
  {
   "cell_type": "code",
   "execution_count": 42,
   "metadata": {},
   "outputs": [],
   "source": [
    "def remove_noun(df):\n",
    "\n",
    "  nlp = spacy.load(\"en_core_web_sm\")  \n",
    "\n",
    "  # Process user_review column\n",
    "  filtered_reviews = []\n",
    "  for review in df['user_review']:\n",
    "    filtered_review = \" \".join([token.text for token in nlp(review) if token.pos_ not in ['NOUN', 'PROPN']])\n",
    "    filtered_reviews.append(filtered_review)\n",
    "  \n",
    "  return filtered_reviews"
   ]
  },
  {
   "cell_type": "markdown",
   "metadata": {},
   "source": [
    "#### Explanation:\n",
    "\n",
    "1. Function Definition:\n",
    "    - The code defines a function named remove_noun that takes a DataFrame train as input.\n",
    "    \n",
    "2. spaCy Model Loading:\n",
    "    - Loads the spaCy English language model (en_core_web_sm).\n",
    "\n",
    "3. Processing user_review:\n",
    "    - Similar to the previous code, it iterates over each review in the \"user_review\" column.\n",
    "    - For each review, it uses nlp(review) to create a spaCy document object.\n",
    "    - The list comprehension filters tokens by keeping only those with POS tags other than \"NOUN\" and \"PROPN\".\n",
    "    - The remaining tokens are joined back into a single string which represents the filtered_reviews.\n",
    "    - This filtered string is then appended to the list filtered_reviews.\n",
    "\n",
    "5. Returning Results:\n",
    "    - The function returns the list filtered_reviews, which contains the modified text of reviews with nouns and proper nouns removed."
   ]
  },
  {
   "cell_type": "code",
   "execution_count": 43,
   "metadata": {},
   "outputs": [],
   "source": [
    "w_noun_train  = remove_noun(train)"
   ]
  },
  {
   "cell_type": "code",
   "execution_count": 44,
   "metadata": {},
   "outputs": [
    {
     "data": {
      "text/plain": [
       "0    early access reviewvery great shooter original...\n",
       "1    i love love love play lot class choose bound s...\n",
       "2    early access reviewas fan mtg hearthstone fun ...\n",
       "3    turn base strategy game similiar ff tactic day...\n",
       "4    game insanely huge download phone game blast v...\n",
       "Name: user_review, dtype: object"
      ]
     },
     "execution_count": 44,
     "metadata": {},
     "output_type": "execute_result"
    }
   ],
   "source": [
    "train['user_review'].head()"
   ]
  },
  {
   "cell_type": "code",
   "execution_count": 45,
   "metadata": {},
   "outputs": [
    {
     "data": {
      "text/plain": [
       "['early great shooter understand visual look i think evolve sure early i think need cuz compare low think go i hope understand i like i think i',\n",
       " 'i love choose bound storyline',\n",
       " 'early reviewas far good know haha great',\n",
       " 'turn similiar ff remember easy enjoyable different try bored want able play occasional',\n",
       " 'insanely huge entire far long']"
      ]
     },
     "execution_count": 45,
     "metadata": {},
     "output_type": "execute_result"
    }
   ],
   "source": [
    "w_noun_train[:5]"
   ]
  },
  {
   "cell_type": "code",
   "execution_count": 46,
   "metadata": {},
   "outputs": [],
   "source": [
    "tfidf_wnoun_vectorizer = TfidfVectorizer(min_df=0.001)\n",
    "tfidf_wnoun_vectorizer_train = tfidf_wnoun_vectorizer .fit_transform(w_noun_train)"
   ]
  },
  {
   "cell_type": "code",
   "execution_count": 47,
   "metadata": {},
   "outputs": [
    {
     "data": {
      "text/plain": [
       "0.800246126307546"
      ]
     },
     "execution_count": 47,
     "metadata": {},
     "output_type": "execute_result"
    }
   ],
   "source": [
    "# tfidf_wnoun_vectorizer_train =tfidf_wnoun_vectorizer .fit_transform(train['user_review'])\n",
    "naive_bayes_classifier.fit(tfidf_wnoun_vectorizer_train , train['user_suggestion'])\n",
    "naive_bayes_classifier.score(tfidf_wnoun_vectorizer_train, train['user_suggestion'])"
   ]
  },
  {
   "cell_type": "markdown",
   "metadata": {},
   "source": [
    "#  Video 6 : Basic ANN Game Review Prediction Model using PyTorch"
   ]
  },
  {
   "cell_type": "code",
   "execution_count": 48,
   "metadata": {},
   "outputs": [],
   "source": [
    "# import libraries\n",
    "import torch\n",
    "import torch.nn as nn\n",
    "import torch.optim as optim\n",
    "from torch.utils.data import DataLoader, TensorDataset"
   ]
  },
  {
   "cell_type": "code",
   "execution_count": 49,
   "metadata": {},
   "outputs": [],
   "source": [
    "tfidf_ann_vectorizer = TfidfVectorizer(min_df=0.001)"
   ]
  },
  {
   "cell_type": "code",
   "execution_count": 50,
   "metadata": {},
   "outputs": [],
   "source": [
    "# fitting the ann_vectorizer to the train and validation data\n",
    "features_train = tfidf_ann_vectorizer.fit_transform(train['user_review'])\n",
    "features_validation = tfidf_ann_vectorizer.transform(validation['user_review'])"
   ]
  },
  {
   "cell_type": "code",
   "execution_count": 51,
   "metadata": {},
   "outputs": [],
   "source": [
    "# converting the features_train and features_validation \n",
    "features_train = torch.tensor(features_train.toarray(), dtype=torch.float32)\n",
    "features_validation = torch.tensor(features_validation.toarray(), dtype=torch.float32)"
   ]
  },
  {
   "cell_type": "code",
   "execution_count": 52,
   "metadata": {},
   "outputs": [],
   "source": [
    "# convert target variables into pytorch tensors\n",
    "y_train = torch.tensor(train['user_suggestion'])\n",
    "y_validation = torch.tensor(validation['user_suggestion'])"
   ]
  },
  {
   "cell_type": "markdown",
   "metadata": {},
   "source": [
    "### Create DataLoader"
   ]
  },
  {
   "cell_type": "code",
   "execution_count": 53,
   "metadata": {},
   "outputs": [],
   "source": [
    "# initialise TensorDataset  object\n",
    "train_dataset = TensorDataset(features_train, y_train)\n",
    "val_dataset = TensorDataset(features_validation, y_validation)\n",
    "\n",
    "train_loader = DataLoader(train_dataset, batch_size=256, shuffle=True)\n",
    "val_loader = DataLoader(val_dataset, batch_size=256, shuffle=True)"
   ]
  },
  {
   "cell_type": "code",
   "execution_count": 70,
   "metadata": {},
   "outputs": [],
   "source": [
    "class ANNModel(nn.Module):\n",
    "    def __init__(self, input_size, hidden_size, output_size, dropout_rate):\n",
    "        super(ANNModel, self).__init__()\n",
    "        self.fc1 = nn.Linear(input_size, hidden_size)\n",
    "        self.relu = nn.ReLU()\n",
    "        self.dropout = nn.Dropout(dropout_rate)\n",
    "        self.fc2 = nn.Linear(hidden_size, output_size)\n",
    "        self.fc3 = nn.Sigmoid()\n",
    "\n",
    "    def forward(self, x):\n",
    "        out = self.fc1(x)\n",
    "        out = self.relu(out)\n",
    "        out = self.dropout(out)\n",
    "        out = self.fc2(out)\n",
    "        out = self.fc3(out)\n",
    "        return out"
   ]
  },
  {
   "cell_type": "code",
   "execution_count": 82,
   "metadata": {},
   "outputs": [],
   "source": [
    "model = ANNModel(input_size=features_train.shape[1], hidden_size=64, output_size=1, dropout_rate=0.8)\n",
    "criterion = nn.BCELoss()\n",
    "optimizer = optim.Adam(model.parameters())"
   ]
  },
  {
   "cell_type": "code",
   "execution_count": 81,
   "metadata": {},
   "outputs": [
    {
     "name": "stdout",
     "output_type": "stream",
     "text": [
      "Epoch 1/30, Loss: 0.6444, Val Loss: 0.5703\n",
      "Epoch 2/30, Loss: 0.4856, Val Loss: 0.4262\n",
      "Epoch 3/30, Loss: 0.3789, Val Loss: 0.3750\n",
      "Epoch 4/30, Loss: 0.3339, Val Loss: 0.3591\n",
      "Epoch 5/30, Loss: 0.3104, Val Loss: 0.3536\n",
      "Epoch 6/30, Loss: 0.2944, Val Loss: 0.3551\n",
      "Epoch 7/30, Loss: 0.2832, Val Loss: 0.3572\n",
      "Epoch 8/30, Loss: 0.2723, Val Loss: 0.3624\n",
      "Epoch 9/30, Loss: 0.2644, Val Loss: 0.3678\n",
      "Epoch 10/30, Loss: 0.2569, Val Loss: 0.3746\n",
      "Epoch 11/30, Loss: 0.2521, Val Loss: 0.3813\n",
      "Epoch 12/30, Loss: 0.2465, Val Loss: 0.3888\n",
      "Epoch 13/30, Loss: 0.2415, Val Loss: 0.3953\n",
      "Epoch 14/30, Loss: 0.2381, Val Loss: 0.4032\n",
      "Epoch 15/30, Loss: 0.2345, Val Loss: 0.4091\n",
      "Epoch 16/30, Loss: 0.2301, Val Loss: 0.4129\n",
      "Epoch 17/30, Loss: 0.2265, Val Loss: 0.4223\n",
      "Epoch 18/30, Loss: 0.2229, Val Loss: 0.4275\n",
      "Epoch 19/30, Loss: 0.2196, Val Loss: 0.4321\n",
      "Epoch 20/30, Loss: 0.2165, Val Loss: 0.4371\n",
      "Epoch 21/30, Loss: 0.2123, Val Loss: 0.4454\n",
      "Epoch 22/30, Loss: 0.2089, Val Loss: 0.4505\n",
      "Epoch 23/30, Loss: 0.2071, Val Loss: 0.4568\n",
      "Epoch 24/30, Loss: 0.2031, Val Loss: 0.4642\n",
      "Epoch 25/30, Loss: 0.1996, Val Loss: 0.4695\n",
      "Epoch 26/30, Loss: 0.1954, Val Loss: 0.4774\n",
      "Epoch 27/30, Loss: 0.1919, Val Loss: 0.4763\n",
      "Epoch 28/30, Loss: 0.1882, Val Loss: 0.4904\n",
      "Epoch 29/30, Loss: 0.1845, Val Loss: 0.4925\n",
      "Epoch 30/30, Loss: 0.1818, Val Loss: 0.5013\n"
     ]
    },
    {
     "data": {
      "image/png": "[encoded data removed]",
      "text/plain": [
       "<Figure size 1000x500 with 1 Axes>"
      ]
     },
     "metadata": {},
     "output_type": "display_data"
    }
   ],
   "source": [
    "import matplotlib.pyplot as plt\n",
    "\n",
    "num_epochs = 30  # Number of epochs\n",
    "losses = []  # List to store the average loss per epoch\n",
    "val_losses = []\n",
    "\n",
    "for epoch in range(num_epochs):\n",
    "    model.train()  # Set the model to training mode\n",
    "    total_loss = 0  # Variable to store the total loss in each epoch\n",
    "    total_val_loss = 0\n",
    "    count = 0  # Variable to count the number of batches\n",
    "    val_count = 0\n",
    "    for inputs, labels in train_loader:\n",
    "        optimizer.zero_grad()\n",
    "        outputs = model(inputs)\n",
    "        outputs = outputs.squeeze()  # Squeeze the output to match the label's shape\n",
    "        loss = criterion(outputs, labels.float())  # Ensure labels are float\n",
    "        loss.backward()\n",
    "        optimizer.step()\n",
    "        total_loss += loss.item()\n",
    "        count += 1\n",
    "    average_loss = total_loss / count  # Calculate average loss for the epoch\n",
    "    losses.append(average_loss)  # Append average loss to the list\n",
    "       \n",
    "    for inputs, labels in val_loader:\n",
    "        val_outputs = model(inputs)\n",
    "        val_outputs = val_outputs.squeeze()  # Squeeze the output to match the label's shape\n",
    "        val_loss = criterion(val_outputs, labels.float())  # Ensure labels are float\n",
    "        total_val_loss += val_loss.item()\n",
    "        val_count += 1\n",
    "    average_val_loss = total_val_loss / val_count  # Calculate average loss for the epoch\n",
    "    val_losses.append(average_val_loss)  # Append average loss to the list\n",
    "    print(f'Epoch {epoch+1}/{num_epochs}, Loss: {average_loss:.4f}, Val Loss: {average_val_loss:.4f}')\n",
    "\n",
    "# Plotting the training loss\n",
    "plt.figure(figsize=(10, 5))\n",
    "plt.plot(range(1, num_epochs + 1), losses, marker='o', linestyle='-', color='b', label = 'train_loss')\n",
    "plt.plot(range(1, num_epochs + 1), val_losses, marker='o', linestyle='-', color='r', label = 'val_loss')\n",
    "plt.title('Training Loss per Epoch')\n",
    "plt.xlabel('Epoch')\n",
    "plt.ylabel('Loss')\n",
    "plt.legend()\n",
    "plt.grid(True)\n",
    "plt.show()"
   ]
  },
  {
   "cell_type": "markdown",
   "metadata": {},
   "source": [
    "#### Observations-\n",
    "1. The train loss is decreasing with each epoch while the loss for validation reaches its minima at the 5th epoch and then starts to rise. One way  to prevent overfitting could have been to stop the training at the 4th or 5th epoch. Feel free to try it yourself."
   ]
  },
  {
   "cell_type": "code",
   "execution_count": 79,
   "metadata": {
    "scrolled": true
   },
   "outputs": [
    {
     "name": "stdout",
     "output_type": "stream",
     "text": [
      "Training Accuracy: 95.32360015662583%\n",
      "Validation Accuracy: 82.64160793526494%\n"
     ]
    }
   ],
   "source": [
    "def calculate_accuracy(loader):\n",
    "    model.eval()  # Set the model to evaluation mode\n",
    "    correct, total = 0, 0\n",
    "    with torch.no_grad():\n",
    "        for inputs, labels in loader:\n",
    "            outputs = model(inputs)\n",
    "            predicted = outputs.squeeze() > 0.5  # Apply threshold to convert probabilities to binary predictions\n",
    "            total += labels.size(0)\n",
    "            correct += (predicted == labels).sum().item()\n",
    "    return 100 * correct / total\n",
    "\n",
    "train_accuracy = calculate_accuracy(train_loader)\n",
    "val_accuracy = calculate_accuracy(val_loader)\n",
    "\n",
    "print(f'Training Accuracy: {train_accuracy}%')\n",
    "print(f'Validation Accuracy: {val_accuracy}%')\n"
   ]
  },
  {
   "cell_type": "code",
   "execution_count": null,
   "metadata": {},
   "outputs": [],
   "source": []
  }
 ],
 "metadata": {
  "kernelspec": {
   "display_name": "Python 3",
   "language": "python",
   "name": "python3"
  },
  "language_info": {
   "codemirror_mode": {
    "name": "ipython",
    "version": 3
   },
   "file_extension": ".py",
   "mimetype": "text/x-python",
   "name": "python",
   "nbconvert_exporter": "python",
   "pygments_lexer": "ipython3",
   "version": "3.10.6"
  }
 },
 "nbformat": 4,
 "nbformat_minor": 4
}
